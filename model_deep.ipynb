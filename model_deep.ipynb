{
 "cells": [
  {
   "cell_type": "markdown",
   "metadata": {},
   "source": [
    "# Deep Learning Models"
   ]
  },
  {
   "cell_type": "markdown",
   "metadata": {},
   "source": [
    "Authored by [witchapong](https://github.com/witchapong); Edited by [cstorm125](https://github.com/cstorm125/)\n",
    "\n",
    "This notebook details how to tackle the recommendation problem using deep learning models. We provide two example models: one where all variables are treated as cross-sectional variables, and the other where previous snaps are treated as sequential variables."
   ]
  },
  {
   "cell_type": "code",
   "execution_count": null,
   "metadata": {},
   "outputs": [],
   "source": [
    "# #uncomment if you are running from google colab\n",
    "# !wget https://github.com/Datatouille/snaplogic_snap_recommendation/archive/master.zip; unzip master\n",
    "# !mv snaplogic_snap_recommendation-master/* .\n",
    "# !ls"
   ]
  },
  {
   "cell_type": "code",
   "execution_count": 1,
   "metadata": {},
   "outputs": [],
   "source": [
    "import numpy as np\n",
    "import pandas as pd\n",
    "from tqdm import tqdm_notebook\n",
    "import matplotlib.pyplot as plt\n",
    "from copy import deepcopy\n",
    "from utils import *\n",
    "np.set_printoptions(threshold=50, edgeitems=20)\n",
    "\n",
    "#torch \n",
    "import torch\n",
    "import torch.nn as nn\n",
    "import torch.nn.functional as F\n",
    "import torch.optim as optim\n",
    "from torch.utils.data import Dataset, DataLoader\n",
    "device = torch.device(\"cuda:0\" if torch.cuda.is_available() else \"cpu\")"
   ]
  },
  {
   "cell_type": "code",
   "execution_count": 2,
   "metadata": {},
   "outputs": [
    {
     "data": {
      "text/plain": [
       "device(type='cuda', index=0)"
      ]
     },
     "execution_count": 2,
     "metadata": {},
     "output_type": "execute_result"
    }
   ],
   "source": [
    "device"
   ]
  },
  {
   "cell_type": "markdown",
   "metadata": {},
   "source": [
    "## Load Data"
   ]
  },
  {
   "cell_type": "code",
   "execution_count": 3,
   "metadata": {},
   "outputs": [
    {
     "data": {
      "text/plain": [
       "((103541, 8), (14792, 8), (29584, 8))"
      ]
     },
     "execution_count": 3,
     "metadata": {},
     "output_type": "execute_result"
    }
   ],
   "source": [
    "train_df = pd.read_csv(\"dataset/train_df.csv\")\n",
    "valid_df = pd.read_csv(\"dataset/valid_df.csv\")\n",
    "submit_df = pd.read_csv(\"dataset/submit_df.csv\")\n",
    "all_df = pd.concat([train_df,valid_df,submit_df],0).reset_index(drop=True)\n",
    "train_df.shape, valid_df.shape, submit_df.shape"
   ]
  },
  {
   "cell_type": "code",
   "execution_count": 4,
   "metadata": {},
   "outputs": [
    {
     "data": {
      "text/html": [
       "<div>\n",
       "<style scoped>\n",
       "    .dataframe tbody tr th:only-of-type {\n",
       "        vertical-align: middle;\n",
       "    }\n",
       "\n",
       "    .dataframe tbody tr th {\n",
       "        vertical-align: top;\n",
       "    }\n",
       "\n",
       "    .dataframe thead th {\n",
       "        text-align: right;\n",
       "    }\n",
       "</style>\n",
       "<table border=\"1\" class=\"dataframe\">\n",
       "  <thead>\n",
       "    <tr style=\"text-align: right;\">\n",
       "      <th></th>\n",
       "      <th>org</th>\n",
       "      <th>prev_snap_1</th>\n",
       "      <th>prev_snap_2</th>\n",
       "      <th>prev_snap_3</th>\n",
       "      <th>prev_snap_4</th>\n",
       "      <th>project</th>\n",
       "      <th>target_snap</th>\n",
       "      <th>user</th>\n",
       "    </tr>\n",
       "  </thead>\n",
       "  <tbody>\n",
       "    <tr>\n",
       "      <th>0</th>\n",
       "      <td>3</td>\n",
       "      <td>471</td>\n",
       "      <td>158</td>\n",
       "      <td>0</td>\n",
       "      <td>0</td>\n",
       "      <td>500</td>\n",
       "      <td>286</td>\n",
       "      <td>118</td>\n",
       "    </tr>\n",
       "    <tr>\n",
       "      <th>1</th>\n",
       "      <td>1</td>\n",
       "      <td>238</td>\n",
       "      <td>468</td>\n",
       "      <td>0</td>\n",
       "      <td>0</td>\n",
       "      <td>396</td>\n",
       "      <td>63</td>\n",
       "      <td>7</td>\n",
       "    </tr>\n",
       "    <tr>\n",
       "      <th>2</th>\n",
       "      <td>3</td>\n",
       "      <td>344</td>\n",
       "      <td>344</td>\n",
       "      <td>344</td>\n",
       "      <td>344</td>\n",
       "      <td>500</td>\n",
       "      <td>349</td>\n",
       "      <td>168</td>\n",
       "    </tr>\n",
       "    <tr>\n",
       "      <th>3</th>\n",
       "      <td>3</td>\n",
       "      <td>171</td>\n",
       "      <td>0</td>\n",
       "      <td>0</td>\n",
       "      <td>0</td>\n",
       "      <td>217</td>\n",
       "      <td>211</td>\n",
       "      <td>71</td>\n",
       "    </tr>\n",
       "    <tr>\n",
       "      <th>4</th>\n",
       "      <td>3</td>\n",
       "      <td>0</td>\n",
       "      <td>0</td>\n",
       "      <td>0</td>\n",
       "      <td>0</td>\n",
       "      <td>565</td>\n",
       "      <td>51</td>\n",
       "      <td>71</td>\n",
       "    </tr>\n",
       "  </tbody>\n",
       "</table>\n",
       "</div>"
      ],
      "text/plain": [
       "   org  prev_snap_1  prev_snap_2  prev_snap_3  prev_snap_4  project  \\\n",
       "0    3          471          158            0            0      500   \n",
       "1    1          238          468            0            0      396   \n",
       "2    3          344          344          344          344      500   \n",
       "3    3          171            0            0            0      217   \n",
       "4    3            0            0            0            0      565   \n",
       "\n",
       "   target_snap  user  \n",
       "0          286   118  \n",
       "1           63     7  \n",
       "2          349   168  \n",
       "3          211    71  \n",
       "4           51    71  "
      ]
     },
     "execution_count": 4,
     "metadata": {},
     "output_type": "execute_result"
    }
   ],
   "source": [
    "train_df.head()"
   ]
  },
  {
   "cell_type": "code",
   "execution_count": 5,
   "metadata": {},
   "outputs": [
    {
     "data": {
      "text/html": [
       "<div>\n",
       "<style scoped>\n",
       "    .dataframe tbody tr th:only-of-type {\n",
       "        vertical-align: middle;\n",
       "    }\n",
       "\n",
       "    .dataframe tbody tr th {\n",
       "        vertical-align: top;\n",
       "    }\n",
       "\n",
       "    .dataframe thead th {\n",
       "        text-align: right;\n",
       "    }\n",
       "</style>\n",
       "<table border=\"1\" class=\"dataframe\">\n",
       "  <thead>\n",
       "    <tr style=\"text-align: right;\">\n",
       "      <th></th>\n",
       "      <th>org</th>\n",
       "      <th>prev_snap_1</th>\n",
       "      <th>prev_snap_2</th>\n",
       "      <th>prev_snap_3</th>\n",
       "      <th>prev_snap_4</th>\n",
       "      <th>project</th>\n",
       "      <th>target_snap</th>\n",
       "      <th>user</th>\n",
       "    </tr>\n",
       "  </thead>\n",
       "  <tbody>\n",
       "    <tr>\n",
       "      <th>count</th>\n",
       "      <td>103541.000000</td>\n",
       "      <td>103541.000000</td>\n",
       "      <td>103541.000000</td>\n",
       "      <td>103541.000000</td>\n",
       "      <td>103541.000000</td>\n",
       "      <td>103541.000000</td>\n",
       "      <td>103541.000000</td>\n",
       "      <td>103541.000000</td>\n",
       "    </tr>\n",
       "    <tr>\n",
       "      <th>mean</th>\n",
       "      <td>2.674303</td>\n",
       "      <td>185.961629</td>\n",
       "      <td>133.142716</td>\n",
       "      <td>88.953873</td>\n",
       "      <td>54.087231</td>\n",
       "      <td>443.124125</td>\n",
       "      <td>266.926358</td>\n",
       "      <td>128.956510</td>\n",
       "    </tr>\n",
       "    <tr>\n",
       "      <th>std</th>\n",
       "      <td>0.737418</td>\n",
       "      <td>152.789966</td>\n",
       "      <td>156.076242</td>\n",
       "      <td>143.168823</td>\n",
       "      <td>120.032965</td>\n",
       "      <td>126.777504</td>\n",
       "      <td>129.226959</td>\n",
       "      <td>52.766921</td>\n",
       "    </tr>\n",
       "    <tr>\n",
       "      <th>min</th>\n",
       "      <td>1.000000</td>\n",
       "      <td>0.000000</td>\n",
       "      <td>0.000000</td>\n",
       "      <td>0.000000</td>\n",
       "      <td>0.000000</td>\n",
       "      <td>1.000000</td>\n",
       "      <td>1.000000</td>\n",
       "      <td>1.000000</td>\n",
       "    </tr>\n",
       "    <tr>\n",
       "      <th>25%</th>\n",
       "      <td>3.000000</td>\n",
       "      <td>30.000000</td>\n",
       "      <td>0.000000</td>\n",
       "      <td>0.000000</td>\n",
       "      <td>0.000000</td>\n",
       "      <td>500.000000</td>\n",
       "      <td>158.000000</td>\n",
       "      <td>71.000000</td>\n",
       "    </tr>\n",
       "    <tr>\n",
       "      <th>50%</th>\n",
       "      <td>3.000000</td>\n",
       "      <td>158.000000</td>\n",
       "      <td>66.000000</td>\n",
       "      <td>0.000000</td>\n",
       "      <td>0.000000</td>\n",
       "      <td>500.000000</td>\n",
       "      <td>287.000000</td>\n",
       "      <td>118.000000</td>\n",
       "    </tr>\n",
       "    <tr>\n",
       "      <th>75%</th>\n",
       "      <td>3.000000</td>\n",
       "      <td>313.000000</td>\n",
       "      <td>211.000000</td>\n",
       "      <td>158.000000</td>\n",
       "      <td>0.000000</td>\n",
       "      <td>500.000000</td>\n",
       "      <td>349.000000</td>\n",
       "      <td>168.000000</td>\n",
       "    </tr>\n",
       "    <tr>\n",
       "      <th>max</th>\n",
       "      <td>4.000000</td>\n",
       "      <td>500.000000</td>\n",
       "      <td>500.000000</td>\n",
       "      <td>500.000000</td>\n",
       "      <td>499.000000</td>\n",
       "      <td>580.000000</td>\n",
       "      <td>500.000000</td>\n",
       "      <td>230.000000</td>\n",
       "    </tr>\n",
       "  </tbody>\n",
       "</table>\n",
       "</div>"
      ],
      "text/plain": [
       "                 org    prev_snap_1    prev_snap_2    prev_snap_3  \\\n",
       "count  103541.000000  103541.000000  103541.000000  103541.000000   \n",
       "mean        2.674303     185.961629     133.142716      88.953873   \n",
       "std         0.737418     152.789966     156.076242     143.168823   \n",
       "min         1.000000       0.000000       0.000000       0.000000   \n",
       "25%         3.000000      30.000000       0.000000       0.000000   \n",
       "50%         3.000000     158.000000      66.000000       0.000000   \n",
       "75%         3.000000     313.000000     211.000000     158.000000   \n",
       "max         4.000000     500.000000     500.000000     500.000000   \n",
       "\n",
       "         prev_snap_4        project    target_snap           user  \n",
       "count  103541.000000  103541.000000  103541.000000  103541.000000  \n",
       "mean       54.087231     443.124125     266.926358     128.956510  \n",
       "std       120.032965     126.777504     129.226959      52.766921  \n",
       "min         0.000000       1.000000       1.000000       1.000000  \n",
       "25%         0.000000     500.000000     158.000000      71.000000  \n",
       "50%         0.000000     500.000000     287.000000     118.000000  \n",
       "75%         0.000000     500.000000     349.000000     168.000000  \n",
       "max       499.000000     580.000000     500.000000     230.000000  "
      ]
     },
     "execution_count": 5,
     "metadata": {},
     "output_type": "execute_result"
    }
   ],
   "source": [
    "train_df.describe()"
   ]
  },
  {
   "cell_type": "markdown",
   "metadata": {},
   "source": [
    "## Cross-sectional Model"
   ]
  },
  {
   "cell_type": "markdown",
   "metadata": {},
   "source": [
    "In this model, our features are indice of previous snaps, organizations, projects and users. We treat all of them as cross-sectional, categorical variables. The output of the model is the probability of the target snap."
   ]
  },
  {
   "cell_type": "markdown",
   "metadata": {},
   "source": [
    "### Dataloaders"
   ]
  },
  {
   "cell_type": "markdown",
   "metadata": {},
   "source": [
    "We create dataloaders for train and validation sets. They simply output each row of the dataframe."
   ]
  },
  {
   "cell_type": "code",
   "execution_count": 6,
   "metadata": {},
   "outputs": [],
   "source": [
    "class SnapStaDataset(Dataset):\n",
    "    def __init__(self, df, sta_cols, target_col):\n",
    "        self.df  = df\n",
    "        self.sta = df[sta_cols]\n",
    "        self.target = df[target_col]\n",
    "\n",
    "    def __getitem__(self, index):\n",
    "        return(torch.tensor(self.sta.iloc[index], dtype=torch.long, device=device),\n",
    "               torch.tensor(self.target[index], dtype=torch.long, device=device))\n",
    "\n",
    "    def __len__(self):\n",
    "        return(self.df.shape[0])"
   ]
  },
  {
   "cell_type": "code",
   "execution_count": 7,
   "metadata": {},
   "outputs": [],
   "source": [
    "sta_cols = ['prev_snap_4', 'prev_snap_3', 'prev_snap_2', 'prev_snap_1','org','project','user']\n",
    "target_col = 'target_snap'\n",
    "\n",
    "bs = 1024\n",
    "train_ds = SnapStaDataset(train_df, sta_cols, target_col)\n",
    "train_dl = DataLoader(train_ds, batch_size=bs, shuffle=True)\n",
    "valid_ds = SnapStaDataset(valid_df, sta_cols, target_col)\n",
    "valid_dl = DataLoader(valid_ds, batch_size=len(valid_ds), shuffle=False)"
   ]
  },
  {
   "cell_type": "code",
   "execution_count": 8,
   "metadata": {},
   "outputs": [
    {
     "data": {
      "text/plain": [
       "[tensor([[  0,   0, 344,  ...,   3, 500, 118],\n",
       "         [  0,   0,   0,  ...,   3, 500, 118],\n",
       "         [  0,   0,  38,  ...,   3, 500, 168],\n",
       "         ...,\n",
       "         [ 79,  79, 158,  ...,   3, 500, 168],\n",
       "         [  0,   0,   0,  ...,   3, 500,  71],\n",
       "         [  0,   0,   0,  ...,   1, 195, 201]], device='cuda:0'),\n",
       " tensor([344, 158, 349,  ...,  79,  79, 470], device='cuda:0')]"
      ]
     },
     "execution_count": 8,
     "metadata": {},
     "output_type": "execute_result"
    }
   ],
   "source": [
    "next(iter(train_dl))"
   ]
  },
  {
   "cell_type": "markdown",
   "metadata": {},
   "source": [
    "### Architecture"
   ]
  },
  {
   "cell_type": "markdown",
   "metadata": {},
   "source": [
    "The architecture consists of embedding layers that convert all categorical indice to tensors then concatenate them together. After that, we put the concatenated tensors through non-linearity layers, lastly, outputing probabilities for the target snap."
   ]
  },
  {
   "cell_type": "code",
   "execution_count": 11,
   "metadata": {},
   "outputs": [
    {
     "data": {
      "text/html": [
       "<div>\n",
       "<style scoped>\n",
       "    .dataframe tbody tr th:only-of-type {\n",
       "        vertical-align: middle;\n",
       "    }\n",
       "\n",
       "    .dataframe tbody tr th {\n",
       "        vertical-align: top;\n",
       "    }\n",
       "\n",
       "    .dataframe thead th {\n",
       "        text-align: right;\n",
       "    }\n",
       "</style>\n",
       "<table border=\"1\" class=\"dataframe\">\n",
       "  <thead>\n",
       "    <tr style=\"text-align: right;\">\n",
       "      <th></th>\n",
       "      <th>org</th>\n",
       "      <th>prev_snap_1</th>\n",
       "      <th>prev_snap_2</th>\n",
       "      <th>prev_snap_3</th>\n",
       "      <th>prev_snap_4</th>\n",
       "      <th>project</th>\n",
       "      <th>target_snap</th>\n",
       "      <th>user</th>\n",
       "    </tr>\n",
       "  </thead>\n",
       "  <tbody>\n",
       "    <tr>\n",
       "      <th>count</th>\n",
       "      <td>118333.000000</td>\n",
       "      <td>118333.000000</td>\n",
       "      <td>118333.000000</td>\n",
       "      <td>118333.00000</td>\n",
       "      <td>118333.000000</td>\n",
       "      <td>118333.000000</td>\n",
       "      <td>118333.000000</td>\n",
       "      <td>118333.000000</td>\n",
       "    </tr>\n",
       "    <tr>\n",
       "      <th>mean</th>\n",
       "      <td>2.714619</td>\n",
       "      <td>186.760101</td>\n",
       "      <td>134.423272</td>\n",
       "      <td>89.92565</td>\n",
       "      <td>54.819408</td>\n",
       "      <td>452.348128</td>\n",
       "      <td>267.080595</td>\n",
       "      <td>125.979828</td>\n",
       "    </tr>\n",
       "    <tr>\n",
       "      <th>std</th>\n",
       "      <td>0.698465</td>\n",
       "      <td>152.714594</td>\n",
       "      <td>156.621822</td>\n",
       "      <td>143.96719</td>\n",
       "      <td>121.071679</td>\n",
       "      <td>121.656760</td>\n",
       "      <td>128.535729</td>\n",
       "      <td>50.547574</td>\n",
       "    </tr>\n",
       "    <tr>\n",
       "      <th>min</th>\n",
       "      <td>1.000000</td>\n",
       "      <td>0.000000</td>\n",
       "      <td>0.000000</td>\n",
       "      <td>0.00000</td>\n",
       "      <td>0.000000</td>\n",
       "      <td>1.000000</td>\n",
       "      <td>1.000000</td>\n",
       "      <td>1.000000</td>\n",
       "    </tr>\n",
       "    <tr>\n",
       "      <th>25%</th>\n",
       "      <td>3.000000</td>\n",
       "      <td>36.000000</td>\n",
       "      <td>0.000000</td>\n",
       "      <td>0.00000</td>\n",
       "      <td>0.000000</td>\n",
       "      <td>500.000000</td>\n",
       "      <td>158.000000</td>\n",
       "      <td>71.000000</td>\n",
       "    </tr>\n",
       "    <tr>\n",
       "      <th>50%</th>\n",
       "      <td>3.000000</td>\n",
       "      <td>158.000000</td>\n",
       "      <td>71.000000</td>\n",
       "      <td>0.00000</td>\n",
       "      <td>0.000000</td>\n",
       "      <td>500.000000</td>\n",
       "      <td>287.000000</td>\n",
       "      <td>118.000000</td>\n",
       "    </tr>\n",
       "    <tr>\n",
       "      <th>75%</th>\n",
       "      <td>3.000000</td>\n",
       "      <td>313.000000</td>\n",
       "      <td>212.000000</td>\n",
       "      <td>158.00000</td>\n",
       "      <td>0.000000</td>\n",
       "      <td>500.000000</td>\n",
       "      <td>349.000000</td>\n",
       "      <td>168.000000</td>\n",
       "    </tr>\n",
       "    <tr>\n",
       "      <th>max</th>\n",
       "      <td>4.000000</td>\n",
       "      <td>500.000000</td>\n",
       "      <td>500.000000</td>\n",
       "      <td>500.00000</td>\n",
       "      <td>499.000000</td>\n",
       "      <td>580.000000</td>\n",
       "      <td>500.000000</td>\n",
       "      <td>230.000000</td>\n",
       "    </tr>\n",
       "  </tbody>\n",
       "</table>\n",
       "</div>"
      ],
      "text/plain": [
       "                 org    prev_snap_1    prev_snap_2   prev_snap_3  \\\n",
       "count  118333.000000  118333.000000  118333.000000  118333.00000   \n",
       "mean        2.714619     186.760101     134.423272      89.92565   \n",
       "std         0.698465     152.714594     156.621822     143.96719   \n",
       "min         1.000000       0.000000       0.000000       0.00000   \n",
       "25%         3.000000      36.000000       0.000000       0.00000   \n",
       "50%         3.000000     158.000000      71.000000       0.00000   \n",
       "75%         3.000000     313.000000     212.000000     158.00000   \n",
       "max         4.000000     500.000000     500.000000     500.00000   \n",
       "\n",
       "         prev_snap_4        project    target_snap           user  \n",
       "count  118333.000000  118333.000000  118333.000000  118333.000000  \n",
       "mean       54.819408     452.348128     267.080595     125.979828  \n",
       "std       121.071679     121.656760     128.535729      50.547574  \n",
       "min         0.000000       1.000000       1.000000       1.000000  \n",
       "25%         0.000000     500.000000     158.000000      71.000000  \n",
       "50%         0.000000     500.000000     287.000000     118.000000  \n",
       "75%         0.000000     500.000000     349.000000     168.000000  \n",
       "max       499.000000     580.000000     500.000000     230.000000  "
      ]
     },
     "execution_count": 11,
     "metadata": {},
     "output_type": "execute_result"
    }
   ],
   "source": [
    "pd.concat([train_df,valid_df],axis=0).describe()"
   ]
  },
  {
   "cell_type": "code",
   "execution_count": 12,
   "metadata": {},
   "outputs": [],
   "source": [
    "sta_dict = {'prev_snap_4': 501, 'prev_snap_3': 501, 'prev_snap_2': 501, 'prev_snap_1': 501,\n",
    "            'org':5, 'project':581, 'user':231}\n",
    "config = {'emb_p': 0.05, 'fc_ps': [0.5, 0.25],'fc_szs': [1000, 500],  'out_sz': 501}\n",
    "\n",
    "#rule of thump for choosing embedding size from fastai\n",
    "def emb_sz_rule(n_cat): return min(600, round(1.6 * n_cat**0.56))\n",
    "\n",
    "class RecommendSta(nn.Module):\n",
    "    def __init__(self, config, sta_dict):\n",
    "        super(RecommendSta, self).__init__()\n",
    "        #set parameters\n",
    "        self.sta_dict = sta_dict\n",
    "        self.emb_p = config['emb_p']\n",
    "        self.fc_szs = config['fc_szs']\n",
    "        self.fc_ps = config['fc_ps']\n",
    "        self.out_sz = config['out_sz']\n",
    "        \n",
    "        #embedding layers\n",
    "        self.emb_drop = nn.Dropout(self.emb_p)\n",
    "        self.sta_layers = nn.ModuleList([nn.Embedding(sta_dict[i], emb_sz_rule(sta_dict[i])) for i in sta_dict])\n",
    "        self.lin_in = sum([emb_sz_rule(sta_dict[i]) for i in sta_dict])\n",
    "        self.fc_szs = [self.lin_in] + self.fc_szs\n",
    "        \n",
    "        #fully connected layers\n",
    "        fc_layers_list = []\n",
    "        for ni,nf,p in zip(self.fc_szs[:-1], self.fc_szs[1:], self.fc_ps):\n",
    "            fc_layers_list.append(nn.Linear(ni, nf))\n",
    "            fc_layers_list.append(nn.ReLU(inplace=True))\n",
    "            fc_layers_list.append(nn.BatchNorm1d(nf))\n",
    "            fc_layers_list.append(nn.Dropout(p=p))\n",
    "        self.fc_layers = nn.Sequential(*fc_layers_list)\n",
    "\n",
    "        #output head\n",
    "        self.head = torch.nn.Linear(in_features=self.fc_szs[-1], out_features=self.out_sz)\n",
    "\n",
    "    def forward(self, sta_input):\n",
    "        #sta\n",
    "        sta_list = [e(sta_input[:,i]) for i,e in enumerate(self.sta_layers)]\n",
    "        sta_out = torch.cat(sta_list,1)\n",
    "        sta_out = self.emb_drop(sta_out)\n",
    "        \n",
    "        #linear\n",
    "        res = self.fc_layers(sta_out)\n",
    "        res = self.head(res)\n",
    "    \n",
    "        return(res)"
   ]
  },
  {
   "cell_type": "code",
   "execution_count": 13,
   "metadata": {},
   "outputs": [
    {
     "data": {
      "text/plain": [
       "torch.Size([14792, 501])"
      ]
     },
     "execution_count": 13,
     "metadata": {},
     "output_type": "execute_result"
    }
   ],
   "source": [
    "model = RecommendSta(config, sta_dict).to(device)\n",
    "x = next(iter(valid_dl))\n",
    "sta_input = x[0]\n",
    "target = x[1]\n",
    "model(sta_input).shape"
   ]
  },
  {
   "cell_type": "code",
   "execution_count": 14,
   "metadata": {},
   "outputs": [
    {
     "data": {
      "text/plain": [
       "RecommendSta(\n",
       "  (emb_drop): Dropout(p=0.05)\n",
       "  (sta_layers): ModuleList(\n",
       "    (0): Embedding(501, 52)\n",
       "    (1): Embedding(501, 52)\n",
       "    (2): Embedding(501, 52)\n",
       "    (3): Embedding(501, 52)\n",
       "    (4): Embedding(5, 4)\n",
       "    (5): Embedding(581, 57)\n",
       "    (6): Embedding(231, 34)\n",
       "  )\n",
       "  (fc_layers): Sequential(\n",
       "    (0): Linear(in_features=303, out_features=1000, bias=True)\n",
       "    (1): ReLU(inplace)\n",
       "    (2): BatchNorm1d(1000, eps=1e-05, momentum=0.1, affine=True, track_running_stats=True)\n",
       "    (3): Dropout(p=0.5)\n",
       "    (4): Linear(in_features=1000, out_features=500, bias=True)\n",
       "    (5): ReLU(inplace)\n",
       "    (6): BatchNorm1d(500, eps=1e-05, momentum=0.1, affine=True, track_running_stats=True)\n",
       "    (7): Dropout(p=0.25)\n",
       "  )\n",
       "  (head): Linear(in_features=500, out_features=501, bias=True)\n",
       ")"
      ]
     },
     "execution_count": 14,
     "metadata": {},
     "output_type": "execute_result"
    }
   ],
   "source": [
    "model"
   ]
  },
  {
   "cell_type": "markdown",
   "metadata": {},
   "source": [
    "### Training"
   ]
  },
  {
   "cell_type": "markdown",
   "metadata": {},
   "source": [
    "We perform training with a high learning rate then gradually lowers it as validation loss stagnates."
   ]
  },
  {
   "cell_type": "code",
   "execution_count": 15,
   "metadata": {},
   "outputs": [],
   "source": [
    "sta_cols = ['prev_snap_4', 'prev_snap_3', 'prev_snap_2', 'prev_snap_1','org','project','user']\n",
    "target_col = 'target_snap'\n",
    "\n",
    "bs = 1024\n",
    "train_ds = SnapStaDataset(train_df, sta_cols, target_col)\n",
    "train_dl = DataLoader(train_ds, batch_size=bs, shuffle=True)\n",
    "valid_ds = SnapStaDataset(valid_df, sta_cols, target_col)\n",
    "valid_dl = DataLoader(valid_ds, batch_size=len(valid_ds), shuffle=False)"
   ]
  },
  {
   "cell_type": "code",
   "execution_count": 16,
   "metadata": {},
   "outputs": [],
   "source": [
    "sta_dict = {'prev_snap_4': 501, 'prev_snap_3': 501, 'prev_snap_2': 501, 'prev_snap_1': 501,\n",
    "            'org':5, 'project':581, 'user':231}\n",
    "config = {'emb_p': 0.05, 'fc_ps': [0.5, 0.25],'fc_szs': [1000, 500],  'out_sz': 501}\n",
    "\n",
    "model = RecommendSta(config, sta_dict).to(device)\n",
    "loss_function = nn.CrossEntropyLoss()\n",
    "optimizer = optim.Adam(model.parameters(), lr=1e-2)\n",
    "scheduler = torch.optim.lr_scheduler.ReduceLROnPlateau(optimizer, mode='min', factor=0.1, patience=1)"
   ]
  },
  {
   "cell_type": "code",
   "execution_count": 17,
   "metadata": {},
   "outputs": [
    {
     "data": {
      "application/vnd.jupyter.widget-view+json": {
       "model_id": "20c20e5cb2ad4fffab7c0c657c5e987d",
       "version_major": 2,
       "version_minor": 0
      },
      "text/plain": [
       "HBox(children=(IntProgress(value=0, max=20), HTML(value='')))"
      ]
     },
     "metadata": {},
     "output_type": "display_data"
    },
    {
     "name": "stdout",
     "output_type": "stream",
     "text": [
      "0 train loss: 2.886 valid loss: 2.441            accuracy: 0.418  top-5 accuracy: 0.739\n",
      "1 train loss: 2.296 valid loss: 2.189            accuracy: 0.449  top-5 accuracy: 0.772\n",
      "2 train loss: 2.131 valid loss: 2.124            accuracy: 0.469  top-5 accuracy: 0.782\n",
      "3 train loss: 2.037 valid loss: 2.07            accuracy: 0.48  top-5 accuracy: 0.781\n",
      "4 train loss: 1.969 valid loss: 2.078            accuracy: 0.479  top-5 accuracy: 0.795\n",
      "5 train loss: 1.925 valid loss: 2.054            accuracy: 0.49  top-5 accuracy: 0.797\n",
      "6 train loss: 1.887 valid loss: 2.051            accuracy: 0.487  top-5 accuracy: 0.796\n",
      "7 train loss: 1.851 valid loss: 2.047            accuracy: 0.496  top-5 accuracy: 0.8\n",
      "8 train loss: 1.833 valid loss: 2.035            accuracy: 0.489  top-5 accuracy: 0.799\n",
      "9 train loss: 1.813 valid loss: 2.044            accuracy: 0.493  top-5 accuracy: 0.8\n",
      "10 train loss: 1.797 valid loss: 2.038            accuracy: 0.498  top-5 accuracy: 0.801\n",
      "11 train loss: 1.713 valid loss: 2.013            accuracy: 0.505  top-5 accuracy: 0.803\n",
      "12 train loss: 1.686 valid loss: 2.016            accuracy: 0.504  top-5 accuracy: 0.802\n",
      "13 train loss: 1.674 valid loss: 2.02            accuracy: 0.504  top-5 accuracy: 0.803\n",
      "early stopping after epoch 14\n"
     ]
    }
   ],
   "source": [
    "train_losses = []\n",
    "valid_losses = []\n",
    "lrs = []\n",
    "accs = []\n",
    "acc_ks = []\n",
    "best_loss = np.inf\n",
    "best_weights = None\n",
    "no_improvements = 0\n",
    "\n",
    "for epoch in tqdm_notebook(range(20)):\n",
    "    #current lr\n",
    "    lr = scheduler.optimizer.param_groups[0]['lr']\n",
    "    lrs.append(lr)\n",
    "    #train\n",
    "    train_loss = []\n",
    "    model.train()\n",
    "    for x in train_dl:\n",
    "        sta_input = x[0]\n",
    "        target = x[1]\n",
    "        \n",
    "        #forward\n",
    "        score = model(sta_input)\n",
    "        \n",
    "        #loss\n",
    "        loss = loss_function(score,target)\n",
    "        train_loss.append(loss.item())\n",
    "        \n",
    "        \n",
    "        #step\n",
    "        optimizer.zero_grad()\n",
    "        loss.backward()\n",
    "        optimizer.step()\n",
    "    train_losses.append(np.mean(train_loss))\n",
    "    \n",
    "    #validate\n",
    "    model.eval()\n",
    "    for x in valid_dl:\n",
    "        sta_input = x[0]\n",
    "        target = x[1]\n",
    "        \n",
    "        #forward\n",
    "        score = model(sta_input)\n",
    "        \n",
    "        #loss\n",
    "        valid_loss = loss_function(score,target)\n",
    "        valid_losses.append(valid_loss.item())\n",
    "        \n",
    "        #accuracy\n",
    "        y = target.cpu().detach().numpy()\n",
    "        probs = F.softmax(score,1).cpu().detach().numpy()\n",
    "        \n",
    "        #top 1 accuracy\n",
    "        preds = probs.argmax(1)\n",
    "        acc = (preds==y).mean()\n",
    "        accs.append(acc)\n",
    "        \n",
    "        #top k accuracy\n",
    "        acc_k = score_topk_probs(probs,y,k=5)\n",
    "        acc_ks.append(acc_k)\n",
    "        \n",
    "    #choose best model\n",
    "    if valid_loss < best_loss:\n",
    "        best_loss = valid_loss\n",
    "        best_weights = deepcopy(model.state_dict())\n",
    "        no_improvements = 0\n",
    "    else:\n",
    "        no_improvements += 1\n",
    "\n",
    "    #early stopping\n",
    "    if no_improvements > 2:\n",
    "        print(f'early stopping after epoch {epoch}')\n",
    "        break\n",
    "        \n",
    "    #end of epoch\n",
    "    scheduler.step(valid_loss)\n",
    "    print(f'{epoch} train loss: {round(np.mean(train_loss),3)} valid loss: {round(valid_loss.item(),3)}\\\n",
    "            accuracy: {round(acc,3)}  top-5 accuracy: {round(acc_k,3)}')"
   ]
  },
  {
   "cell_type": "code",
   "execution_count": null,
   "metadata": {},
   "outputs": [],
   "source": [
    "#save model\n",
    "# torch.save(best_weights,'sta_weights.pth')"
   ]
  },
  {
   "cell_type": "markdown",
   "metadata": {},
   "source": [
    "### Diagnostics"
   ]
  },
  {
   "cell_type": "code",
   "execution_count": 18,
   "metadata": {},
   "outputs": [
    {
     "data": {
      "text/plain": [
       "[<matplotlib.lines.Line2D at 0x7f4e6594dc18>]"
      ]
     },
     "execution_count": 18,
     "metadata": {},
     "output_type": "execute_result"
    },
    {
     "data": {
      "image/png": "[encoded data removed]",
      "text/plain": [
       "<Figure size 432x288 with 1 Axes>"
      ]
     },
     "metadata": {
      "needs_background": "light"
     },
     "output_type": "display_data"
    }
   ],
   "source": [
    "plt.plot(lrs)"
   ]
  },
  {
   "cell_type": "code",
   "execution_count": 19,
   "metadata": {},
   "outputs": [
    {
     "data": {
      "text/plain": [
       "[<matplotlib.lines.Line2D at 0x7f4e637c00b8>]"
      ]
     },
     "execution_count": 19,
     "metadata": {},
     "output_type": "execute_result"
    },
    {
     "data": {
      "image/png": "[encoded data removed]",
      "text/plain": [
       "<Figure size 432x288 with 1 Axes>"
      ]
     },
     "metadata": {
      "needs_background": "light"
     },
     "output_type": "display_data"
    }
   ],
   "source": [
    "plt.plot(train_losses)\n",
    "plt.plot(valid_losses)"
   ]
  },
  {
   "cell_type": "code",
   "execution_count": 20,
   "metadata": {},
   "outputs": [
    {
     "data": {
      "text/plain": [
       "[<matplotlib.lines.Line2D at 0x7f4e651b7748>]"
      ]
     },
     "execution_count": 20,
     "metadata": {},
     "output_type": "execute_result"
    },
    {
     "data": {
      "image/png": "[encoded data removed]",
      "text/plain": [
       "<Figure size 432x288 with 1 Axes>"
      ]
     },
     "metadata": {
      "needs_background": "light"
     },
     "output_type": "display_data"
    }
   ],
   "source": [
    "plt.plot(accs)\n",
    "plt.plot(acc_ks)"
   ]
  },
  {
   "cell_type": "markdown",
   "metadata": {},
   "source": [
    "### Evaluations"
   ]
  },
  {
   "cell_type": "markdown",
   "metadata": {},
   "source": [
    "With 486 target classes, it is almost impossible to diagnose how well your model performs by looking at confusion matrix like you would normally do. Here we provide the idea of an \"accuracy curve\" as possible model evaluation tool."
   ]
  },
  {
   "cell_type": "code",
   "execution_count": 21,
   "metadata": {},
   "outputs": [
    {
     "data": {
      "application/vnd.jupyter.widget-view+json": {
       "model_id": "9f089cd066fa432da64881c3367e61ea",
       "version_major": 2,
       "version_minor": 0
      },
      "text/plain": [
       "HBox(children=(IntProgress(value=0), HTML(value='')))"
      ]
     },
     "metadata": {},
     "output_type": "display_data"
    },
    {
     "data": {
      "text/plain": [
       "[<matplotlib.lines.Line2D at 0x7f4e63494588>]"
      ]
     },
     "execution_count": 21,
     "metadata": {},
     "output_type": "execute_result"
    },
    {
     "data": {
      "image/png": "[encoded data removed]",
      "text/plain": [
       "<Figure size 432x288 with 1 Axes>"
      ]
     },
     "metadata": {
      "needs_background": "light"
     },
     "output_type": "display_data"
    }
   ],
   "source": [
    "#accurayc curve\n",
    "acc_curve_sta = []\n",
    "for i in tqdm_notebook(range(1,101)):\n",
    "    acc_curve_sta.append(score_topk_probs(probs,y,k=i))\n",
    "plt.plot(acc_curve_sta)"
   ]
  },
  {
   "cell_type": "code",
   "execution_count": 22,
   "metadata": {},
   "outputs": [
    {
     "data": {
      "image/png": "[encoded data removed]",
      "text/plain": [
       "<Figure size 432x288 with 1 Axes>"
      ]
     },
     "metadata": {
      "needs_background": "light"
     },
     "output_type": "display_data"
    }
   ],
   "source": [
    "_ = plt.plot(acc_curve_sta[:10])"
   ]
  },
  {
   "cell_type": "markdown",
   "metadata": {},
   "source": [
    "## Sequential Model"
   ]
  },
  {
   "cell_type": "markdown",
   "metadata": {},
   "source": [
    "The model is essentially the same as cross-sectional model, except for the fact that we treat `prev_snap_4` to `prev_snap_1` as sequential categorical features, and put them through recurrent layers. `org`, `project`, and `user` are treated the same way as cross-sectional model."
   ]
  },
  {
   "cell_type": "markdown",
   "metadata": {},
   "source": [
    "### Dataloaders"
   ]
  },
  {
   "cell_type": "markdown",
   "metadata": {},
   "source": [
    "This dataloader will output a tuple of three elements: (`sequential variables`, `cross-sectional variables`, `target`)."
   ]
  },
  {
   "cell_type": "code",
   "execution_count": 23,
   "metadata": {},
   "outputs": [],
   "source": [
    "class SnapSeqDataset(Dataset):\n",
    "    def __init__(self, df, seq_cols, sta_cols, target_col):\n",
    "        self.df  = df\n",
    "        self.seq = df[seq_cols]\n",
    "        self.sta = df[sta_cols]\n",
    "        self.target = df[target_col]\n",
    "\n",
    "    def __getitem__(self, index):\n",
    "        return(torch.tensor(self.seq.iloc[index], dtype=torch.long, device=device),\n",
    "               torch.tensor(self.sta.iloc[index], dtype=torch.long, device=device),\n",
    "               torch.tensor(self.target[index], dtype=torch.long, device=device))\n",
    "\n",
    "    def __len__(self):\n",
    "        return(self.df.shape[0])"
   ]
  },
  {
   "cell_type": "code",
   "execution_count": 24,
   "metadata": {},
   "outputs": [],
   "source": [
    "seq_cols = ['prev_snap_4', 'prev_snap_3', 'prev_snap_2', 'prev_snap_1',]\n",
    "sta_cols = ['org','project','user']\n",
    "target_col = 'target_snap'\n",
    "\n",
    "bs = 1024\n",
    "train_ds = SnapSeqDataset(train_df, seq_cols, sta_cols, target_col)\n",
    "train_dl = DataLoader(train_ds, batch_size=bs, shuffle=True)\n",
    "valid_ds = SnapSeqDataset(valid_df, seq_cols, sta_cols, target_col)\n",
    "valid_dl = DataLoader(valid_ds, batch_size=len(valid_ds), shuffle=False)"
   ]
  },
  {
   "cell_type": "code",
   "execution_count": 25,
   "metadata": {},
   "outputs": [
    {
     "data": {
      "text/plain": [
       "[tensor([[ 48, 158, 281, 158],\n",
       "         [  0,   0,   0,   0],\n",
       "         [158, 498, 158, 313],\n",
       "         ...,\n",
       "         [  0,   0,   0,   0],\n",
       "         [  0, 403, 158,  85],\n",
       "         [  0,   0, 294, 334]], device='cuda:0'), tensor([[  3, 500, 168],\n",
       "         [  3, 500,  71],\n",
       "         [  3, 500,  71],\n",
       "         ...,\n",
       "         [  3, 500, 118],\n",
       "         [  3, 500, 118],\n",
       "         [  3, 500,  71]], device='cuda:0'), tensor([313, 338, 349,  ..., 280, 158, 294], device='cuda:0')]"
      ]
     },
     "execution_count": 25,
     "metadata": {},
     "output_type": "execute_result"
    }
   ],
   "source": [
    "next(iter(train_dl))"
   ]
  },
  {
   "cell_type": "markdown",
   "metadata": {},
   "source": [
    "### Architecture"
   ]
  },
  {
   "cell_type": "markdown",
   "metadata": {},
   "source": [
    "Same as before, we put all categorical indice through embedding layers to get embedding tensors. But before we concatenate them together and put them through non-linearity layers, we put the sequential variables through recurrent layers."
   ]
  },
  {
   "cell_type": "code",
   "execution_count": 26,
   "metadata": {},
   "outputs": [],
   "source": [
    "sta_dict = {'org':5, 'project':581, 'user':231}\n",
    "seq_dim = 501\n",
    "config = {'emb_p': 0.05, \n",
    "          'rnn_p':0., 'rnn_l':1, 'rnn_h':1000, 'seq_len': 4,\n",
    "          'fc_ps': [0.5, 0.25],'fc_szs': [1000, 500], \n",
    "          'out_sz': 501}\n",
    "\n",
    "#rule of thump for choosing embedding size from fastai\n",
    "def emb_sz_rule(n_cat): return min(600, round(1.6 * n_cat**0.56))\n",
    "\n",
    "class RecommendSeq(nn.Module):\n",
    "    def __init__(self, config, sta_dict, seq_dim):\n",
    "        super(RecommendSeq, self).__init__()\n",
    "        #set parameters\n",
    "        self.sta_dict = sta_dict\n",
    "        self.seq_dim = seq_dim\n",
    "        self.emb_p = config['emb_p']\n",
    "        self.rnn_p = config['rnn_p']\n",
    "        self.rnn_l = config['rnn_l']\n",
    "        self.rnn_h = config['rnn_h']\n",
    "        self.seq_len = config['seq_len']\n",
    "        self.fc_szs = config['fc_szs']\n",
    "        self.fc_ps = config['fc_ps']\n",
    "        self.out_sz = config['out_sz']\n",
    "        \n",
    "        #embedding layers\n",
    "        self.emb_drop = nn.Dropout(self.emb_p)\n",
    "        self.sta_layers = nn.ModuleList([nn.Embedding(sta_dict[i], emb_sz_rule(sta_dict[i])) for i in sta_dict])\n",
    "        self.seq_layer = nn.Embedding(seq_dim, emb_sz_rule(seq_dim))\n",
    "        self.lin_in = sum([emb_sz_rule(sta_dict[i]) for i in sta_dict]) + self.rnn_h * self.seq_len\n",
    "        self.fc_szs = [self.lin_in] + self.fc_szs\n",
    "        \n",
    "        #recurrent layers\n",
    "        self.rnn_layers = nn.LSTM(emb_sz_rule(seq_dim), self.rnn_h,\n",
    "                                   num_layers = self.rnn_l, bias=True, batch_first=True,\n",
    "                                   dropout=self.rnn_p)\n",
    "        \n",
    "        #fully connected layers\n",
    "        fc_layers_list = []\n",
    "        for ni,nf,p in zip(self.fc_szs[:-1], self.fc_szs[1:], self.fc_ps):\n",
    "            fc_layers_list.append(nn.Linear(ni, nf))\n",
    "            fc_layers_list.append(nn.ReLU(inplace=True))\n",
    "            fc_layers_list.append(nn.BatchNorm1d(nf))\n",
    "            fc_layers_list.append(nn.Dropout(p=p))\n",
    "        self.fc_layers = nn.Sequential(*fc_layers_list)\n",
    "\n",
    "        #output head\n",
    "        self.head = torch.nn.Linear(in_features=self.fc_szs[-1], out_features=self.out_sz)\n",
    "\n",
    "    def forward(self, seq_input, sta_input):\n",
    "        #sta\n",
    "        sta_list = [e(sta_input[:,i]) for i,e in enumerate(self.sta_layers)]\n",
    "        sta_out = torch.cat(sta_list,1)\n",
    "        sta_out = self.emb_drop(sta_out)\n",
    "        \n",
    "        #seq\n",
    "        bs = seq_input.shape[0]\n",
    "        seq_out = self.seq_layer(seq_input)\n",
    "        seq_out = self.emb_drop(seq_out)\n",
    "        seq_out, seq_h = self.rnn_layers(seq_out)\n",
    "        seq_out = seq_out.contiguous()\n",
    "        seq_out = seq_out.view(bs,-1)\n",
    "        \n",
    "        #linear\n",
    "        lin_in = torch.cat([sta_out,seq_out],1)\n",
    "        res = self.fc_layers(lin_in)\n",
    "        res = self.head(res)\n",
    "        \n",
    "        return(res)"
   ]
  },
  {
   "cell_type": "code",
   "execution_count": 27,
   "metadata": {},
   "outputs": [
    {
     "data": {
      "text/plain": [
       "torch.Size([14792, 501])"
      ]
     },
     "execution_count": 27,
     "metadata": {},
     "output_type": "execute_result"
    }
   ],
   "source": [
    "model = RecommendSeq(config, sta_dict, seq_dim).to(device)\n",
    "x = next(iter(valid_dl))\n",
    "seq_input = x[0]\n",
    "sta_input = x[1]\n",
    "target = x[2]\n",
    "model(seq_input,sta_input).shape"
   ]
  },
  {
   "cell_type": "code",
   "execution_count": 28,
   "metadata": {},
   "outputs": [
    {
     "data": {
      "text/plain": [
       "RecommendSeq(\n",
       "  (emb_drop): Dropout(p=0.05)\n",
       "  (sta_layers): ModuleList(\n",
       "    (0): Embedding(5, 4)\n",
       "    (1): Embedding(581, 57)\n",
       "    (2): Embedding(231, 34)\n",
       "  )\n",
       "  (seq_layer): Embedding(501, 52)\n",
       "  (rnn_layers): LSTM(52, 1000, batch_first=True)\n",
       "  (fc_layers): Sequential(\n",
       "    (0): Linear(in_features=4095, out_features=1000, bias=True)\n",
       "    (1): ReLU(inplace)\n",
       "    (2): BatchNorm1d(1000, eps=1e-05, momentum=0.1, affine=True, track_running_stats=True)\n",
       "    (3): Dropout(p=0.5)\n",
       "    (4): Linear(in_features=1000, out_features=500, bias=True)\n",
       "    (5): ReLU(inplace)\n",
       "    (6): BatchNorm1d(500, eps=1e-05, momentum=0.1, affine=True, track_running_stats=True)\n",
       "    (7): Dropout(p=0.25)\n",
       "  )\n",
       "  (head): Linear(in_features=500, out_features=501, bias=True)\n",
       ")"
      ]
     },
     "execution_count": 28,
     "metadata": {},
     "output_type": "execute_result"
    }
   ],
   "source": [
    "model"
   ]
  },
  {
   "cell_type": "markdown",
   "metadata": {},
   "source": [
    "### Training"
   ]
  },
  {
   "cell_type": "markdown",
   "metadata": {},
   "source": [
    "We perform training with a high learning rate then gradually lowers it as validation loss stagnates."
   ]
  },
  {
   "cell_type": "code",
   "execution_count": 29,
   "metadata": {},
   "outputs": [],
   "source": [
    "seq_cols = ['prev_snap_4', 'prev_snap_3', 'prev_snap_2', 'prev_snap_1',]\n",
    "sta_cols = ['org','project','user']\n",
    "target_col = 'target_snap'\n",
    "\n",
    "bs = 1024\n",
    "train_ds = SnapSeqDataset(train_df, seq_cols, sta_cols, target_col)\n",
    "train_dl = DataLoader(train_ds, batch_size=bs, shuffle=True)\n",
    "valid_ds = SnapSeqDataset(valid_df, seq_cols, sta_cols, target_col)\n",
    "valid_dl = DataLoader(valid_ds, batch_size=len(valid_ds), shuffle=False)"
   ]
  },
  {
   "cell_type": "code",
   "execution_count": 30,
   "metadata": {},
   "outputs": [],
   "source": [
    "sta_dict = {'org':5, 'project':581, 'user':231}\n",
    "seq_dim = 501\n",
    "config = {'emb_p': 0.05, \n",
    "          'rnn_p':0., 'rnn_l':1, 'rnn_h':1000, 'seq_len': 4,\n",
    "          'fc_ps': [0.5, 0.25],'fc_szs': [1000, 500], \n",
    "          'out_sz': 501}\n",
    "\n",
    "model = RecommendSeq(config, sta_dict, seq_dim).to(device)\n",
    "loss_function = nn.CrossEntropyLoss()\n",
    "optimizer = optim.Adam(model.parameters(), lr=1e-2)\n",
    "scheduler = torch.optim.lr_scheduler.ReduceLROnPlateau(optimizer, mode='min', factor=0.1, patience=1)"
   ]
  },
  {
   "cell_type": "code",
   "execution_count": 31,
   "metadata": {},
   "outputs": [
    {
     "data": {
      "application/vnd.jupyter.widget-view+json": {
       "model_id": "4f69e1b9c8f5477190c0bcc98929ac81",
       "version_major": 2,
       "version_minor": 0
      },
      "text/plain": [
       "HBox(children=(IntProgress(value=0, max=20), HTML(value='')))"
      ]
     },
     "metadata": {},
     "output_type": "display_data"
    },
    {
     "name": "stdout",
     "output_type": "stream",
     "text": [
      "0 train loss: 3.093 valid loss: 2.456            accuracy: 0.417  top-5 accuracy: 0.714\n",
      "1 train loss: 2.35 valid loss: 2.167            accuracy: 0.459  top-5 accuracy: 0.77\n",
      "2 train loss: 2.13 valid loss: 2.092            accuracy: 0.483  top-5 accuracy: 0.784\n",
      "3 train loss: 2.001 valid loss: 2.044            accuracy: 0.483  top-5 accuracy: 0.793\n",
      "4 train loss: 1.921 valid loss: 2.007            accuracy: 0.492  top-5 accuracy: 0.793\n",
      "5 train loss: 1.863 valid loss: 2.005            accuracy: 0.498  top-5 accuracy: 0.789\n",
      "6 train loss: 1.816 valid loss: 2.016            accuracy: 0.503  top-5 accuracy: 0.797\n",
      "7 train loss: 1.783 valid loss: 2.0            accuracy: 0.5  top-5 accuracy: 0.79\n",
      "8 train loss: 1.755 valid loss: 1.989            accuracy: 0.507  top-5 accuracy: 0.798\n",
      "9 train loss: 1.735 valid loss: 1.979            accuracy: 0.506  top-5 accuracy: 0.792\n",
      "10 train loss: 1.712 valid loss: 1.974            accuracy: 0.505  top-5 accuracy: 0.8\n",
      "11 train loss: 1.698 valid loss: 1.981            accuracy: 0.505  top-5 accuracy: 0.799\n",
      "12 train loss: 1.685 valid loss: 1.998            accuracy: 0.502  top-5 accuracy: 0.802\n",
      "early stopping after epoch 13\n"
     ]
    }
   ],
   "source": [
    "train_losses = []\n",
    "valid_losses = []\n",
    "lrs = []\n",
    "accs = []\n",
    "acc_ks = []\n",
    "best_loss = np.inf\n",
    "best_weights = None\n",
    "no_improvements = 0\n",
    "\n",
    "for epoch in tqdm_notebook(range(20)):\n",
    "    #current lr\n",
    "    lr = scheduler.optimizer.param_groups[0]['lr']\n",
    "    lrs.append(lr)\n",
    "    #train\n",
    "    train_loss = []\n",
    "    model.train()\n",
    "    for x in train_dl:\n",
    "        seq_input = x[0]\n",
    "        sta_input = x[1]\n",
    "        target = x[2]\n",
    "        \n",
    "        #forward\n",
    "        score = model(seq_input,sta_input)\n",
    "        \n",
    "        #loss\n",
    "        loss = loss_function(score,target)\n",
    "        train_loss.append(loss.item())\n",
    "        \n",
    "        #step\n",
    "        optimizer.zero_grad()\n",
    "        loss.backward()\n",
    "        optimizer.step()\n",
    "\n",
    "    train_losses.append(np.mean(train_loss))\n",
    "    \n",
    "    #validate\n",
    "    model.eval()\n",
    "    for x in valid_dl:\n",
    "        seq_input = x[0]\n",
    "        sta_input = x[1]\n",
    "        target = x[2]\n",
    "        \n",
    "        #forward\n",
    "        score = model(seq_input,sta_input)\n",
    "        \n",
    "        #loss\n",
    "        valid_loss = loss_function(score,target)\n",
    "        valid_losses.append(valid_loss.item())\n",
    "        \n",
    "        #accuracy\n",
    "        y = target.cpu().detach().numpy()\n",
    "        probs = F.softmax(score,1).cpu().detach().numpy()\n",
    "        \n",
    "        #top 1 accuracy\n",
    "        preds = probs.argmax(1)\n",
    "        acc = (preds==y).mean()\n",
    "        accs.append(acc)\n",
    "        \n",
    "        #top k accuracy\n",
    "        acc_k = score_topk_probs(probs,y,k=5)\n",
    "        acc_ks.append(acc_k)\n",
    "        \n",
    "    #choose best model\n",
    "    if valid_loss < best_loss:\n",
    "        best_loss = valid_loss\n",
    "        best_weights = deepcopy(model.state_dict())\n",
    "        no_improvements = 0\n",
    "    else:\n",
    "        no_improvements += 1\n",
    "\n",
    "    #early stopping\n",
    "    if no_improvements > 2:\n",
    "        print(f'early stopping after epoch {epoch}')\n",
    "        break\n",
    "        \n",
    "    #end of epoch\n",
    "    scheduler.step(valid_loss)\n",
    "    print(f'{epoch} train loss: {round(np.mean(train_loss),3)} valid loss: {round(valid_loss.item(),3)}\\\n",
    "            accuracy: {round(acc,3)}  top-5 accuracy: {round(acc_k,3)}')"
   ]
  },
  {
   "cell_type": "code",
   "execution_count": null,
   "metadata": {},
   "outputs": [],
   "source": [
    "#save model\n",
    "# torch.save(best_weights,'seq_weights.pth')"
   ]
  },
  {
   "cell_type": "markdown",
   "metadata": {},
   "source": [
    "### Diagnostics"
   ]
  },
  {
   "cell_type": "code",
   "execution_count": 32,
   "metadata": {},
   "outputs": [
    {
     "data": {
      "text/plain": [
       "[<matplotlib.lines.Line2D at 0x7f4e635e62b0>]"
      ]
     },
     "execution_count": 32,
     "metadata": {},
     "output_type": "execute_result"
    },
    {
     "data": {
      "image/png": "[encoded data removed]",
      "text/plain": [
       "<Figure size 432x288 with 1 Axes>"
      ]
     },
     "metadata": {
      "needs_background": "light"
     },
     "output_type": "display_data"
    }
   ],
   "source": [
    "plt.plot(lrs)"
   ]
  },
  {
   "cell_type": "code",
   "execution_count": 33,
   "metadata": {},
   "outputs": [
    {
     "data": {
      "text/plain": [
       "[<matplotlib.lines.Line2D at 0x7f4e6350f710>]"
      ]
     },
     "execution_count": 33,
     "metadata": {},
     "output_type": "execute_result"
    },
    {
     "data": {
      "image/png": "[encoded data removed]",
      "text/plain": [
       "<Figure size 432x288 with 1 Axes>"
      ]
     },
     "metadata": {
      "needs_background": "light"
     },
     "output_type": "display_data"
    }
   ],
   "source": [
    "plt.plot(train_losses)\n",
    "plt.plot(valid_losses)"
   ]
  },
  {
   "cell_type": "code",
   "execution_count": 34,
   "metadata": {},
   "outputs": [
    {
     "data": {
      "text/plain": [
       "[<matplotlib.lines.Line2D at 0x7f4e65292cf8>]"
      ]
     },
     "execution_count": 34,
     "metadata": {},
     "output_type": "execute_result"
    },
    {
     "data": {
      "image/png": "[encoded data removed]",
      "text/plain": [
       "<Figure size 432x288 with 1 Axes>"
      ]
     },
     "metadata": {
      "needs_background": "light"
     },
     "output_type": "display_data"
    }
   ],
   "source": [
    "plt.plot(accs)\n",
    "plt.plot(acc_ks)"
   ]
  },
  {
   "cell_type": "markdown",
   "metadata": {},
   "source": [
    "### Evaluation"
   ]
  },
  {
   "cell_type": "markdown",
   "metadata": {},
   "source": [
    "Here we can also compare performance between cross-sectional and sequential models. You can see they are very close."
   ]
  },
  {
   "cell_type": "code",
   "execution_count": 35,
   "metadata": {},
   "outputs": [
    {
     "data": {
      "application/vnd.jupyter.widget-view+json": {
       "model_id": "54899792d60a4b8aa0deba03e7e09582",
       "version_major": 2,
       "version_minor": 0
      },
      "text/plain": [
       "HBox(children=(IntProgress(value=0), HTML(value='')))"
      ]
     },
     "metadata": {},
     "output_type": "display_data"
    },
    {
     "data": {
      "text/plain": [
       "[<matplotlib.lines.Line2D at 0x7f4e636f2128>]"
      ]
     },
     "execution_count": 35,
     "metadata": {},
     "output_type": "execute_result"
    },
    {
     "data": {
      "image/png": "[encoded data removed]",
      "text/plain": [
       "<Figure size 432x288 with 1 Axes>"
      ]
     },
     "metadata": {
      "needs_background": "light"
     },
     "output_type": "display_data"
    }
   ],
   "source": [
    "#accurayc curve\n",
    "acc_curve_seq = []\n",
    "for i in tqdm_notebook(range(1,101)):\n",
    "    acc_curve_seq.append(score_topk_probs(probs,y,k=i))\n",
    "plt.plot(acc_curve_seq)"
   ]
  },
  {
   "cell_type": "code",
   "execution_count": 36,
   "metadata": {},
   "outputs": [
    {
     "data": {
      "text/plain": [
       "[<matplotlib.lines.Line2D at 0x7f4e63669e10>]"
      ]
     },
     "execution_count": 36,
     "metadata": {},
     "output_type": "execute_result"
    },
    {
     "data": {
      "image/png": "[encoded data removed]",
      "text/plain": [
       "<Figure size 432x288 with 1 Axes>"
      ]
     },
     "metadata": {
      "needs_background": "light"
     },
     "output_type": "display_data"
    }
   ],
   "source": [
    "plt.plot(acc_curve_sta[:10],'b')\n",
    "plt.plot(acc_curve_seq[:10],'r')"
   ]
  },
  {
   "cell_type": "code",
   "execution_count": null,
   "metadata": {},
   "outputs": [],
   "source": []
  }
 ],
 "metadata": {
  "kernelspec": {
   "display_name": "Python 3",
   "language": "python",
   "name": "python3"
  },
  "language_info": {
   "codemirror_mode": {
    "name": "ipython",
    "version": 3
   },
   "file_extension": ".py",
   "mimetype": "text/x-python",
   "name": "python",
   "nbconvert_exporter": "python",
   "pygments_lexer": "ipython3",
   "version": "3.7.1"
  }
 },
 "nbformat": 4,
 "nbformat_minor": 2
}
