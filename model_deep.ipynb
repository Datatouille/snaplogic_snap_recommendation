{
 "cells": [
  {
   "cell_type": "markdown",
   "metadata": {},
   "source": [
    "# Deep Learning Models"
   ]
  },
  {
   "cell_type": "markdown",
   "metadata": {},
   "source": [
    "Authored by [witchapong](https://github.com/witchapong); Edited by [cstorm125](https://github.com/cstorm125/)"
   ]
  },
  {
   "cell_type": "code",
   "execution_count": 3,
   "metadata": {},
   "outputs": [],
   "source": [
    "import numpy as np\n",
    "import pandas as pd\n",
    "from tqdm import tqdm_notebook\n",
    "import matplotlib.pyplot as plt\n",
    "from copy import deepcopy\n",
    "from utils import *\n",
    "np.set_printoptions(threshold=50, edgeitems=20)\n",
    "\n",
    "#torch \n",
    "import torch\n",
    "import torch.nn as nn\n",
    "import torch.nn.functional as F\n",
    "import torch.optim as optim\n",
    "from torch.utils.data import Dataset, DataLoader\n",
    "device = torch.device(\"cuda:0\" if torch.cuda.is_available() else \"cpu\")"
   ]
  },
  {
   "cell_type": "markdown",
   "metadata": {},
   "source": [
    "## Load Data"
   ]
  },
  {
   "cell_type": "code",
   "execution_count": 4,
   "metadata": {},
   "outputs": [
    {
     "data": {
      "text/plain": [
       "((103112, 9), (14731, 9), (29461, 9))"
      ]
     },
     "execution_count": 4,
     "metadata": {},
     "output_type": "execute_result"
    }
   ],
   "source": [
    "train_df = pd.read_csv(\"train_df.csv\")\n",
    "valid_df = pd.read_csv(\"valid_df.csv\")\n",
    "submit_df = pd.read_csv(\"submit_df.csv\")\n",
    "all_df = pd.concat([train_df,valid_df,submit_df],0).reset_index(drop=True)\n",
    "train_df.shape, valid_df.shape, submit_df.shape"
   ]
  },
  {
   "cell_type": "code",
   "execution_count": 5,
   "metadata": {},
   "outputs": [
    {
     "data": {
      "text/html": [
       "<div>\n",
       "<style scoped>\n",
       "    .dataframe tbody tr th:only-of-type {\n",
       "        vertical-align: middle;\n",
       "    }\n",
       "\n",
       "    .dataframe tbody tr th {\n",
       "        vertical-align: top;\n",
       "    }\n",
       "\n",
       "    .dataframe thead th {\n",
       "        text-align: right;\n",
       "    }\n",
       "</style>\n",
       "<table border=\"1\" class=\"dataframe\">\n",
       "  <thead>\n",
       "    <tr style=\"text-align: right;\">\n",
       "      <th></th>\n",
       "      <th>date</th>\n",
       "      <th>org</th>\n",
       "      <th>prev_snap_1</th>\n",
       "      <th>prev_snap_2</th>\n",
       "      <th>prev_snap_3</th>\n",
       "      <th>prev_snap_4</th>\n",
       "      <th>project</th>\n",
       "      <th>target_snap</th>\n",
       "      <th>user</th>\n",
       "    </tr>\n",
       "  </thead>\n",
       "  <tbody>\n",
       "    <tr>\n",
       "      <th>0</th>\n",
       "      <td>2014-12-05</td>\n",
       "      <td>4</td>\n",
       "      <td>0</td>\n",
       "      <td>0</td>\n",
       "      <td>0</td>\n",
       "      <td>0</td>\n",
       "      <td>145</td>\n",
       "      <td>195</td>\n",
       "      <td>59</td>\n",
       "    </tr>\n",
       "    <tr>\n",
       "      <th>1</th>\n",
       "      <td>2014-12-05</td>\n",
       "      <td>4</td>\n",
       "      <td>178</td>\n",
       "      <td>195</td>\n",
       "      <td>0</td>\n",
       "      <td>0</td>\n",
       "      <td>145</td>\n",
       "      <td>240</td>\n",
       "      <td>59</td>\n",
       "    </tr>\n",
       "    <tr>\n",
       "      <th>2</th>\n",
       "      <td>2014-12-05</td>\n",
       "      <td>4</td>\n",
       "      <td>195</td>\n",
       "      <td>0</td>\n",
       "      <td>0</td>\n",
       "      <td>0</td>\n",
       "      <td>145</td>\n",
       "      <td>178</td>\n",
       "      <td>59</td>\n",
       "    </tr>\n",
       "    <tr>\n",
       "      <th>3</th>\n",
       "      <td>2015-02-10</td>\n",
       "      <td>4</td>\n",
       "      <td>240</td>\n",
       "      <td>223</td>\n",
       "      <td>88</td>\n",
       "      <td>0</td>\n",
       "      <td>414</td>\n",
       "      <td>195</td>\n",
       "      <td>59</td>\n",
       "    </tr>\n",
       "    <tr>\n",
       "      <th>4</th>\n",
       "      <td>2015-02-10</td>\n",
       "      <td>4</td>\n",
       "      <td>88</td>\n",
       "      <td>0</td>\n",
       "      <td>0</td>\n",
       "      <td>0</td>\n",
       "      <td>414</td>\n",
       "      <td>223</td>\n",
       "      <td>59</td>\n",
       "    </tr>\n",
       "  </tbody>\n",
       "</table>\n",
       "</div>"
      ],
      "text/plain": [
       "         date  org  prev_snap_1  prev_snap_2  prev_snap_3  prev_snap_4  \\\n",
       "0  2014-12-05    4            0            0            0            0   \n",
       "1  2014-12-05    4          178          195            0            0   \n",
       "2  2014-12-05    4          195            0            0            0   \n",
       "3  2015-02-10    4          240          223           88            0   \n",
       "4  2015-02-10    4           88            0            0            0   \n",
       "\n",
       "   project  target_snap  user  \n",
       "0      145          195    59  \n",
       "1      145          240    59  \n",
       "2      145          178    59  \n",
       "3      414          195    59  \n",
       "4      414          223    59  "
      ]
     },
     "execution_count": 5,
     "metadata": {},
     "output_type": "execute_result"
    }
   ],
   "source": [
    "train_df.head()"
   ]
  },
  {
   "cell_type": "code",
   "execution_count": 6,
   "metadata": {},
   "outputs": [
    {
     "data": {
      "text/html": [
       "<div>\n",
       "<style scoped>\n",
       "    .dataframe tbody tr th:only-of-type {\n",
       "        vertical-align: middle;\n",
       "    }\n",
       "\n",
       "    .dataframe tbody tr th {\n",
       "        vertical-align: top;\n",
       "    }\n",
       "\n",
       "    .dataframe thead th {\n",
       "        text-align: right;\n",
       "    }\n",
       "</style>\n",
       "<table border=\"1\" class=\"dataframe\">\n",
       "  <thead>\n",
       "    <tr style=\"text-align: right;\">\n",
       "      <th></th>\n",
       "      <th>org</th>\n",
       "      <th>prev_snap_1</th>\n",
       "      <th>prev_snap_2</th>\n",
       "      <th>prev_snap_3</th>\n",
       "      <th>prev_snap_4</th>\n",
       "      <th>project</th>\n",
       "      <th>target_snap</th>\n",
       "      <th>user</th>\n",
       "    </tr>\n",
       "  </thead>\n",
       "  <tbody>\n",
       "    <tr>\n",
       "      <th>count</th>\n",
       "      <td>103112.000000</td>\n",
       "      <td>103112.000000</td>\n",
       "      <td>103112.000000</td>\n",
       "      <td>103112.000000</td>\n",
       "      <td>103112.000000</td>\n",
       "      <td>103112.000000</td>\n",
       "      <td>103112.000000</td>\n",
       "      <td>103112.000000</td>\n",
       "    </tr>\n",
       "    <tr>\n",
       "      <th>mean</th>\n",
       "      <td>2.290994</td>\n",
       "      <td>196.070661</td>\n",
       "      <td>141.378404</td>\n",
       "      <td>94.487072</td>\n",
       "      <td>56.880169</td>\n",
       "      <td>197.992271</td>\n",
       "      <td>282.422347</td>\n",
       "      <td>117.850114</td>\n",
       "    </tr>\n",
       "    <tr>\n",
       "      <th>std</th>\n",
       "      <td>0.755975</td>\n",
       "      <td>145.820540</td>\n",
       "      <td>153.465324</td>\n",
       "      <td>142.909668</td>\n",
       "      <td>119.606031</td>\n",
       "      <td>95.240417</td>\n",
       "      <td>128.184887</td>\n",
       "      <td>57.546317</td>\n",
       "    </tr>\n",
       "    <tr>\n",
       "      <th>min</th>\n",
       "      <td>1.000000</td>\n",
       "      <td>0.000000</td>\n",
       "      <td>0.000000</td>\n",
       "      <td>0.000000</td>\n",
       "      <td>0.000000</td>\n",
       "      <td>1.000000</td>\n",
       "      <td>1.000000</td>\n",
       "      <td>1.000000</td>\n",
       "    </tr>\n",
       "    <tr>\n",
       "      <th>25%</th>\n",
       "      <td>2.000000</td>\n",
       "      <td>18.000000</td>\n",
       "      <td>0.000000</td>\n",
       "      <td>0.000000</td>\n",
       "      <td>0.000000</td>\n",
       "      <td>170.000000</td>\n",
       "      <td>212.000000</td>\n",
       "      <td>82.000000</td>\n",
       "    </tr>\n",
       "    <tr>\n",
       "      <th>50%</th>\n",
       "      <td>2.000000</td>\n",
       "      <td>240.000000</td>\n",
       "      <td>88.000000</td>\n",
       "      <td>0.000000</td>\n",
       "      <td>0.000000</td>\n",
       "      <td>170.000000</td>\n",
       "      <td>240.000000</td>\n",
       "      <td>90.000000</td>\n",
       "    </tr>\n",
       "    <tr>\n",
       "      <th>75%</th>\n",
       "      <td>2.000000</td>\n",
       "      <td>279.000000</td>\n",
       "      <td>240.000000</td>\n",
       "      <td>224.000000</td>\n",
       "      <td>0.000000</td>\n",
       "      <td>170.000000</td>\n",
       "      <td>416.000000</td>\n",
       "      <td>192.000000</td>\n",
       "    </tr>\n",
       "    <tr>\n",
       "      <th>max</th>\n",
       "      <td>4.000000</td>\n",
       "      <td>485.000000</td>\n",
       "      <td>485.000000</td>\n",
       "      <td>485.000000</td>\n",
       "      <td>485.000000</td>\n",
       "      <td>506.000000</td>\n",
       "      <td>485.000000</td>\n",
       "      <td>217.000000</td>\n",
       "    </tr>\n",
       "  </tbody>\n",
       "</table>\n",
       "</div>"
      ],
      "text/plain": [
       "                 org    prev_snap_1    prev_snap_2    prev_snap_3  \\\n",
       "count  103112.000000  103112.000000  103112.000000  103112.000000   \n",
       "mean        2.290994     196.070661     141.378404      94.487072   \n",
       "std         0.755975     145.820540     153.465324     142.909668   \n",
       "min         1.000000       0.000000       0.000000       0.000000   \n",
       "25%         2.000000      18.000000       0.000000       0.000000   \n",
       "50%         2.000000     240.000000      88.000000       0.000000   \n",
       "75%         2.000000     279.000000     240.000000     224.000000   \n",
       "max         4.000000     485.000000     485.000000     485.000000   \n",
       "\n",
       "         prev_snap_4        project    target_snap           user  \n",
       "count  103112.000000  103112.000000  103112.000000  103112.000000  \n",
       "mean       56.880169     197.992271     282.422347     117.850114  \n",
       "std       119.606031      95.240417     128.184887      57.546317  \n",
       "min         0.000000       1.000000       1.000000       1.000000  \n",
       "25%         0.000000     170.000000     212.000000      82.000000  \n",
       "50%         0.000000     170.000000     240.000000      90.000000  \n",
       "75%         0.000000     170.000000     416.000000     192.000000  \n",
       "max       485.000000     506.000000     485.000000     217.000000  "
      ]
     },
     "execution_count": 6,
     "metadata": {},
     "output_type": "execute_result"
    }
   ],
   "source": [
    "train_df.describe()"
   ]
  },
  {
   "cell_type": "markdown",
   "metadata": {},
   "source": [
    "## Cross-sectional Model"
   ]
  },
  {
   "cell_type": "markdown",
   "metadata": {},
   "source": [
    "### Dataloaders"
   ]
  },
  {
   "cell_type": "code",
   "execution_count": 7,
   "metadata": {},
   "outputs": [],
   "source": [
    "class SnapStaDataset(Dataset):\n",
    "    def __init__(self, df, sta_cols, target_col):\n",
    "        self.df  = df\n",
    "        self.sta = df[sta_cols]\n",
    "        self.target = df[target_col]\n",
    "\n",
    "    def __getitem__(self, index):\n",
    "        return(torch.tensor(self.sta.iloc[index], dtype=torch.long, device=device),\n",
    "               torch.tensor(self.target[index], dtype=torch.long, device=device))\n",
    "\n",
    "    def __len__(self):\n",
    "        return(self.df.shape[0])"
   ]
  },
  {
   "cell_type": "code",
   "execution_count": 8,
   "metadata": {},
   "outputs": [],
   "source": [
    "sta_cols = ['prev_snap_4', 'prev_snap_3', 'prev_snap_2', 'prev_snap_1','org','project','user']\n",
    "target_col = 'target_snap'\n",
    "\n",
    "bs = 1024\n",
    "train_ds = SnapStaDataset(train_df, sta_cols, target_col)\n",
    "train_dl = DataLoader(train_ds, batch_size=bs, shuffle=True, num_workers=4)\n",
    "valid_ds = SnapStaDataset(valid_df, sta_cols, target_col)\n",
    "valid_dl = DataLoader(valid_ds, batch_size=len(valid_ds), shuffle=False, num_workers=4)"
   ]
  },
  {
   "cell_type": "code",
   "execution_count": 9,
   "metadata": {},
   "outputs": [
    {
     "data": {
      "text/plain": [
       "[tensor([[  0,   0, 214,  ...,   2, 170, 192],\n",
       "         [  0,   0, 416,  ...,   2, 170,  31],\n",
       "         [  0, 240, 317,  ...,   2, 170,  90],\n",
       "         ...,\n",
       "         [214, 262, 279,  ...,   2, 170,  90],\n",
       "         [  0,   0,   0,  ...,   2, 170,  90],\n",
       "         [  0, 240, 202,  ...,   2, 170, 192]]),\n",
       " tensor([279, 209, 240,  ..., 368, 229, 461])]"
      ]
     },
     "execution_count": 9,
     "metadata": {},
     "output_type": "execute_result"
    }
   ],
   "source": [
    "next(iter(train_dl))"
   ]
  },
  {
   "cell_type": "markdown",
   "metadata": {},
   "source": [
    "### Architecture"
   ]
  },
  {
   "cell_type": "code",
   "execution_count": 10,
   "metadata": {},
   "outputs": [],
   "source": [
    "sta_dict = {'prev_snap_4': 486, 'prev_snap_3': 486, 'prev_snap_2': 486, 'prev_snap_1': 486,\n",
    "            'org':5, 'project':507, 'user':218}\n",
    "config = {'emb_p': 0.05, 'fc_ps': [0.5, 0.25],'fc_szs': [1000, 500],  'out_sz': 486}\n",
    "\n",
    "#rule of thump for choosing embedding size from fastai\n",
    "def emb_sz_rule(n_cat): return min(600, round(1.6 * n_cat**0.56))\n",
    "\n",
    "class RecommendSta(nn.Module):\n",
    "    def __init__(self, config, sta_dict):\n",
    "        super(RecommendSta, self).__init__()\n",
    "        #set parameters\n",
    "        self.sta_dict = sta_dict\n",
    "        self.emb_p = config['emb_p']\n",
    "        self.fc_szs = config['fc_szs']\n",
    "        self.fc_ps = config['fc_ps']\n",
    "        self.out_sz = config['out_sz']\n",
    "        \n",
    "        #embedding layers\n",
    "        self.emb_drop = nn.Dropout(self.emb_p)\n",
    "        self.sta_layers = nn.ModuleList([nn.Embedding(sta_dict[i], emb_sz_rule(sta_dict[i])) for i in sta_dict])\n",
    "        self.lin_in = sum([emb_sz_rule(sta_dict[i]) for i in sta_dict])\n",
    "        self.fc_szs = [self.lin_in] + self.fc_szs\n",
    "        \n",
    "        #fully connected layers\n",
    "        fc_layers_list = []\n",
    "        for ni,nf,p in zip(self.fc_szs[:-1], self.fc_szs[1:], self.fc_ps):\n",
    "            fc_layers_list.append(nn.Linear(ni, nf))\n",
    "            fc_layers_list.append(nn.ReLU(inplace=True))\n",
    "            fc_layers_list.append(nn.BatchNorm1d(nf))\n",
    "            fc_layers_list.append(nn.Dropout(p=p))\n",
    "        self.fc_layers = nn.Sequential(*fc_layers_list)\n",
    "\n",
    "        #output head\n",
    "        self.head = torch.nn.Linear(in_features=self.fc_szs[-1], out_features=self.out_sz)\n",
    "\n",
    "    def forward(self, sta_input):\n",
    "        #sta\n",
    "        sta_list = [e(sta_input[:,i]) for i,e in enumerate(self.sta_layers)]\n",
    "        sta_out = torch.cat(sta_list,1)\n",
    "        sta_out = self.emb_drop(sta_out)\n",
    "        \n",
    "        #linear\n",
    "        res = self.fc_layers(sta_out)\n",
    "        res = self.head(res)\n",
    "    \n",
    "        return(res)"
   ]
  },
  {
   "cell_type": "code",
   "execution_count": 11,
   "metadata": {},
   "outputs": [
    {
     "data": {
      "text/plain": [
       "torch.Size([14731, 486])"
      ]
     },
     "execution_count": 11,
     "metadata": {},
     "output_type": "execute_result"
    }
   ],
   "source": [
    "model = RecommendSta(config, sta_dict)\n",
    "x = next(iter(valid_dl))\n",
    "sta_input = x[0]\n",
    "target = x[1]\n",
    "model(sta_input).shape"
   ]
  },
  {
   "cell_type": "code",
   "execution_count": 12,
   "metadata": {},
   "outputs": [
    {
     "data": {
      "text/plain": [
       "RecommendSta(\n",
       "  (emb_drop): Dropout(p=0.05)\n",
       "  (sta_layers): ModuleList(\n",
       "    (0): Embedding(486, 51)\n",
       "    (1): Embedding(486, 51)\n",
       "    (2): Embedding(486, 51)\n",
       "    (3): Embedding(486, 51)\n",
       "    (4): Embedding(5, 4)\n",
       "    (5): Embedding(507, 52)\n",
       "    (6): Embedding(218, 33)\n",
       "  )\n",
       "  (fc_layers): Sequential(\n",
       "    (0): Linear(in_features=293, out_features=1000, bias=True)\n",
       "    (1): ReLU(inplace)\n",
       "    (2): BatchNorm1d(1000, eps=1e-05, momentum=0.1, affine=True, track_running_stats=True)\n",
       "    (3): Dropout(p=0.5)\n",
       "    (4): Linear(in_features=1000, out_features=500, bias=True)\n",
       "    (5): ReLU(inplace)\n",
       "    (6): BatchNorm1d(500, eps=1e-05, momentum=0.1, affine=True, track_running_stats=True)\n",
       "    (7): Dropout(p=0.25)\n",
       "  )\n",
       "  (head): Linear(in_features=500, out_features=486, bias=True)\n",
       ")"
      ]
     },
     "execution_count": 12,
     "metadata": {},
     "output_type": "execute_result"
    }
   ],
   "source": [
    "model"
   ]
  },
  {
   "cell_type": "markdown",
   "metadata": {},
   "source": [
    "### Training"
   ]
  },
  {
   "cell_type": "code",
   "execution_count": 26,
   "metadata": {},
   "outputs": [],
   "source": [
    "sta_cols = ['prev_snap_4', 'prev_snap_3', 'prev_snap_2', 'prev_snap_1','org','project','user']\n",
    "target_col = 'target_snap'\n",
    "\n",
    "bs = 1024\n",
    "train_ds = SnapStaDataset(train_df, sta_cols, target_col)\n",
    "train_dl = DataLoader(train_ds, batch_size=bs, shuffle=True, num_workers=4)\n",
    "valid_ds = SnapStaDataset(valid_df, sta_cols, target_col)\n",
    "valid_dl = DataLoader(valid_ds, batch_size=len(valid_ds), shuffle=False, num_workers=4)"
   ]
  },
  {
   "cell_type": "code",
   "execution_count": 27,
   "metadata": {},
   "outputs": [],
   "source": [
    "sta_dict = {'prev_snap_4': 486, 'prev_snap_3': 486, 'prev_snap_2': 486, 'prev_snap_1': 486,\n",
    "            'org':5, 'project':507, 'user':218}\n",
    "config = {'emb_p': 0.05, 'fc_ps': [0.5, 0.25],'fc_szs': [1000, 500],  'out_sz': 486}\n",
    "\n",
    "model = RecommendSta(config, sta_dict).to(device)\n",
    "loss_function = nn.CrossEntropyLoss()\n",
    "optimizer = optim.Adam(model.parameters(), lr=1e-2)\n",
    "scheduler = torch.optim.lr_scheduler.ReduceLROnPlateau(optimizer, mode='min', factor=0.1, patience=1)"
   ]
  },
  {
   "cell_type": "code",
   "execution_count": 28,
   "metadata": {},
   "outputs": [
    {
     "data": {
      "application/vnd.jupyter.widget-view+json": {
       "model_id": "41f5f7e5eb834c41be2a3b1d676983be",
       "version_major": 2,
       "version_minor": 0
      },
      "text/plain": [
       "HBox(children=(IntProgress(value=0, max=20), HTML(value='')))"
      ]
     },
     "metadata": {},
     "output_type": "display_data"
    },
    {
     "name": "stdout",
     "output_type": "stream",
     "text": [
      "0 train loss: 2.863 valid loss: 2.374            accuracy: 0.431  top-5 accuracy: 0.745\n",
      "1 train loss: 2.281 valid loss: 2.192            accuracy: 0.443  top-5 accuracy: 0.77\n",
      "2 train loss: 2.115 valid loss: 2.109            accuracy: 0.463  top-5 accuracy: 0.787\n",
      "3 train loss: 2.025 valid loss: 2.092            accuracy: 0.468  top-5 accuracy: 0.784\n",
      "4 train loss: 1.963 valid loss: 2.065            accuracy: 0.484  top-5 accuracy: 0.793\n",
      "5 train loss: 1.913 valid loss: 2.074            accuracy: 0.478  top-5 accuracy: 0.792\n",
      "6 train loss: 1.878 valid loss: 2.028            accuracy: 0.487  top-5 accuracy: 0.8\n",
      "7 train loss: 1.851 valid loss: 2.02            accuracy: 0.489  top-5 accuracy: 0.802\n",
      "8 train loss: 1.824 valid loss: 2.018            accuracy: 0.491  top-5 accuracy: 0.8\n",
      "9 train loss: 1.799 valid loss: 2.008            accuracy: 0.494  top-5 accuracy: 0.803\n",
      "10 train loss: 1.786 valid loss: 2.026            accuracy: 0.488  top-5 accuracy: 0.798\n",
      "11 train loss: 1.77 valid loss: 2.025            accuracy: 0.492  top-5 accuracy: 0.8\n",
      "12 train loss: 1.697 valid loss: 1.99            accuracy: 0.498  top-5 accuracy: 0.806\n",
      "13 train loss: 1.67 valid loss: 1.987            accuracy: 0.5  top-5 accuracy: 0.805\n",
      "14 train loss: 1.659 valid loss: 1.986            accuracy: 0.501  top-5 accuracy: 0.806\n",
      "15 train loss: 1.65 valid loss: 1.997            accuracy: 0.502  top-5 accuracy: 0.806\n",
      "16 train loss: 1.644 valid loss: 1.991            accuracy: 0.502  top-5 accuracy: 0.806\n",
      "early stopping after epoch 17\n"
     ]
    }
   ],
   "source": [
    "train_losses = []\n",
    "valid_losses = []\n",
    "lrs = []\n",
    "accs = []\n",
    "acc_ks = []\n",
    "best_loss = np.inf\n",
    "best_weights = None\n",
    "no_improvements = 0\n",
    "\n",
    "for epoch in tqdm_notebook(range(20)):\n",
    "    #current lr\n",
    "    lr = scheduler.optimizer.param_groups[0]['lr']\n",
    "    lrs.append(lr)\n",
    "    #train\n",
    "    train_loss = []\n",
    "    model.train()\n",
    "    for x in train_dl:\n",
    "        sta_input = x[0]\n",
    "        target = x[1]\n",
    "        \n",
    "        #forward\n",
    "        score = model(sta_input)\n",
    "        \n",
    "        #loss\n",
    "        loss = loss_function(score,target)\n",
    "        train_loss.append(loss.item())\n",
    "        \n",
    "        \n",
    "        #step\n",
    "        optimizer.zero_grad()\n",
    "        loss.backward()\n",
    "        optimizer.step()\n",
    "    train_losses.append(np.mean(train_loss))\n",
    "    \n",
    "    #validate\n",
    "    model.eval()\n",
    "    for x in valid_dl:\n",
    "        sta_input = x[0]\n",
    "        target = x[1]\n",
    "        \n",
    "        #forward\n",
    "        score = model(sta_input)\n",
    "        \n",
    "        #loss\n",
    "        valid_loss = loss_function(score,target)\n",
    "        valid_losses.append(valid_loss.item())\n",
    "        \n",
    "        #accuracy\n",
    "        y = target.detach().numpy()\n",
    "        probs = F.softmax(score,1).detach().numpy()\n",
    "        \n",
    "        #top 1 accuracy\n",
    "        preds = probs.argmax(1)\n",
    "        acc = (preds==y).mean()\n",
    "        accs.append(acc)\n",
    "        \n",
    "        #top k accuracy\n",
    "        acc_k = score_topk_probs(probs,y,k=5)\n",
    "        acc_ks.append(acc_k)\n",
    "        \n",
    "    #choose best model\n",
    "    if valid_loss < best_loss:\n",
    "        best_loss = valid_loss\n",
    "        best_weights = deepcopy(model.state_dict())\n",
    "        no_improvements = 0\n",
    "    else:\n",
    "        no_improvements += 1\n",
    "\n",
    "    #early stopping\n",
    "    if no_improvements > 2:\n",
    "        print(f'early stopping after epoch {epoch}')\n",
    "        break\n",
    "        \n",
    "    #end of epoch\n",
    "    scheduler.step(valid_loss)\n",
    "    print(f'{epoch} train loss: {round(np.mean(train_loss),3)} valid loss: {round(valid_loss.item(),3)}\\\n",
    "            accuracy: {round(acc,3)}  top-5 accuracy: {round(acc_k,3)}')"
   ]
  },
  {
   "cell_type": "code",
   "execution_count": 29,
   "metadata": {},
   "outputs": [],
   "source": [
    "#save model\n",
    "# torch.save(best_weights,'sta_weights.pth')"
   ]
  },
  {
   "cell_type": "markdown",
   "metadata": {},
   "source": [
    "### Diagnostics"
   ]
  },
  {
   "cell_type": "code",
   "execution_count": 30,
   "metadata": {},
   "outputs": [
    {
     "data": {
      "text/plain": [
       "[<matplotlib.lines.Line2D at 0x7fe04c144940>]"
      ]
     },
     "execution_count": 30,
     "metadata": {},
     "output_type": "execute_result"
    },
    {
     "data": {
      "image/png": "[encoded data removed]",
      "text/plain": [
       "<Figure size 432x288 with 1 Axes>"
      ]
     },
     "metadata": {},
     "output_type": "display_data"
    }
   ],
   "source": [
    "plt.plot(lrs)"
   ]
  },
  {
   "cell_type": "code",
   "execution_count": 31,
   "metadata": {},
   "outputs": [
    {
     "data": {
      "text/plain": [
       "[<matplotlib.lines.Line2D at 0x7fe04d39f780>]"
      ]
     },
     "execution_count": 31,
     "metadata": {},
     "output_type": "execute_result"
    },
    {
     "data": {
      "image/png": "[encoded data removed]",
      "text/plain": [
       "<Figure size 432x288 with 1 Axes>"
      ]
     },
     "metadata": {},
     "output_type": "display_data"
    }
   ],
   "source": [
    "plt.plot(train_losses)\n",
    "plt.plot(valid_losses)"
   ]
  },
  {
   "cell_type": "code",
   "execution_count": 32,
   "metadata": {},
   "outputs": [
    {
     "data": {
      "text/plain": [
       "[<matplotlib.lines.Line2D at 0x7fe0501295f8>]"
      ]
     },
     "execution_count": 32,
     "metadata": {},
     "output_type": "execute_result"
    },
    {
     "data": {
      "image/png": "[encoded data removed]",
      "text/plain": [
       "<Figure size 432x288 with 1 Axes>"
      ]
     },
     "metadata": {},
     "output_type": "display_data"
    }
   ],
   "source": [
    "plt.plot(accs)\n",
    "plt.plot(acc_ks)"
   ]
  },
  {
   "cell_type": "markdown",
   "metadata": {},
   "source": [
    "### Evaluations"
   ]
  },
  {
   "cell_type": "markdown",
   "metadata": {},
   "source": [
    "With 486 target classes, it is almost impossible to diagnose how well your model performs by looking at confusion matrix like you would normally do. Here we provide the idea of an \"accuracy curve\" as possible model evaluation tool."
   ]
  },
  {
   "cell_type": "code",
   "execution_count": 38,
   "metadata": {},
   "outputs": [
    {
     "data": {
      "application/vnd.jupyter.widget-view+json": {
       "model_id": "aefa68275b9748488106c1c584316a4e",
       "version_major": 2,
       "version_minor": 0
      },
      "text/plain": [
       "HBox(children=(IntProgress(value=0), HTML(value='')))"
      ]
     },
     "metadata": {},
     "output_type": "display_data"
    },
    {
     "data": {
      "text/plain": [
       "[<matplotlib.lines.Line2D at 0x7fe04d5345c0>]"
      ]
     },
     "execution_count": 38,
     "metadata": {},
     "output_type": "execute_result"
    },
    {
     "data": {
      "image/png": "[encoded data removed]",
      "text/plain": [
       "<Figure size 432x288 with 1 Axes>"
      ]
     },
     "metadata": {},
     "output_type": "display_data"
    }
   ],
   "source": [
    "#accurayc curve\n",
    "acc_curve = []\n",
    "for i in tqdm_notebook(range(1,101)):\n",
    "    acc_curve.append(score_topk_probs(probs,y,k=i))\n",
    "plt.plot(acc_curve)"
   ]
  },
  {
   "cell_type": "code",
   "execution_count": 39,
   "metadata": {},
   "outputs": [
    {
     "data": {
      "text/plain": [
       "[<matplotlib.lines.Line2D at 0x7fe050063f98>]"
      ]
     },
     "execution_count": 39,
     "metadata": {},
     "output_type": "execute_result"
    },
    {
     "data": {
      "image/png": "[encoded data removed]",
      "text/plain": [
       "<Figure size 432x288 with 1 Axes>"
      ]
     },
     "metadata": {},
     "output_type": "display_data"
    }
   ],
   "source": [
    "plt.plot(acc_curve[:10])"
   ]
  },
  {
   "cell_type": "markdown",
   "metadata": {},
   "source": [
    "## Sequential Model"
   ]
  },
  {
   "cell_type": "markdown",
   "metadata": {},
   "source": [
    "Treat `prev_snap_4` to `prev_snap_1` as sequential categorical features, and put them through recurrent layers."
   ]
  },
  {
   "cell_type": "markdown",
   "metadata": {},
   "source": [
    "### Dataloaders"
   ]
  },
  {
   "cell_type": "code",
   "execution_count": 92,
   "metadata": {},
   "outputs": [],
   "source": [
    "class SnapSeqDataset(Dataset):\n",
    "    def __init__(self, df, seq_cols, sta_cols, target_col):\n",
    "        self.df  = df\n",
    "        self.seq = df[seq_cols]\n",
    "        self.sta = df[sta_cols]\n",
    "        self.target = df[target_col]\n",
    "\n",
    "    def __getitem__(self, index):\n",
    "        return(torch.tensor(self.seq.iloc[index], dtype=torch.long, device=device),\n",
    "               torch.tensor(self.sta.iloc[index], dtype=torch.long, device=device),\n",
    "               torch.tensor(self.target[index], dtype=torch.long, device=device))\n",
    "\n",
    "    def __len__(self):\n",
    "        return(self.df.shape[0])"
   ]
  },
  {
   "cell_type": "code",
   "execution_count": 93,
   "metadata": {},
   "outputs": [],
   "source": [
    "seq_cols = ['prev_snap_4', 'prev_snap_3', 'prev_snap_2', 'prev_snap_1',]\n",
    "sta_cols = ['org','project','user']\n",
    "target_col = 'target_snap'\n",
    "\n",
    "bs = 1024\n",
    "train_ds = SnapSeqDataset(train_df, seq_cols, sta_cols, target_col)\n",
    "train_dl = DataLoader(train_ds, batch_size=bs, shuffle=True, num_workers=4)\n",
    "valid_ds = SnapSeqDataset(valid_df, seq_cols, sta_cols, target_col)\n",
    "valid_dl = DataLoader(valid_ds, batch_size=len(valid_ds), shuffle=False, num_workers=4)"
   ]
  },
  {
   "cell_type": "code",
   "execution_count": 94,
   "metadata": {},
   "outputs": [
    {
     "data": {
      "text/plain": [
       "[tensor([[197, 197, 240, 444],\n",
       "         [  0,   0,   0, 240],\n",
       "         [ 38, 398, 398, 149],\n",
       "         ...,\n",
       "         [  0,   0,   0, 214],\n",
       "         [  0,   0,   0,   0],\n",
       "         [  0,   0,   0, 363]]), tensor([[  2, 170,  90],\n",
       "         [  2, 170,  82],\n",
       "         [  2, 170, 192],\n",
       "         ...,\n",
       "         [  4, 363, 115],\n",
       "         [  2, 170, 192],\n",
       "         [  2, 170, 192]]), tensor([197, 196, 461,  ..., 240, 364, 279])]"
      ]
     },
     "execution_count": 94,
     "metadata": {},
     "output_type": "execute_result"
    }
   ],
   "source": [
    "next(iter(train_dl))"
   ]
  },
  {
   "cell_type": "markdown",
   "metadata": {},
   "source": [
    "### Architecture"
   ]
  },
  {
   "cell_type": "code",
   "execution_count": 98,
   "metadata": {},
   "outputs": [],
   "source": [
    "sta_dict = {'org':5, 'project':507, 'user':218}\n",
    "seq_dim = 486\n",
    "config = {'emb_p': 0.05, \n",
    "          'rnn_p':0., 'rnn_l':1, 'rnn_h':1000, 'seq_len': 4,\n",
    "          'fc_ps': [0.5, 0.25],'fc_szs': [1000, 500], \n",
    "          'out_sz': 486}\n",
    "\n",
    "#rule of thump for choosing embedding size from fastai\n",
    "def emb_sz_rule(n_cat): return min(600, round(1.6 * n_cat**0.56))\n",
    "\n",
    "class RecommendSeq(nn.Module):\n",
    "    def __init__(self, config, sta_dict, seq_dim):\n",
    "        super(RecommendSeq, self).__init__()\n",
    "        #set parameters\n",
    "        self.sta_dict = sta_dict\n",
    "        self.seq_dim = seq_dim\n",
    "        self.emb_p = config['emb_p']\n",
    "        self.rnn_p = config['rnn_p']\n",
    "        self.rnn_l = config['rnn_l']\n",
    "        self.rnn_h = config['rnn_h']\n",
    "        self.seq_len = config['seq_len']\n",
    "        self.fc_szs = config['fc_szs']\n",
    "        self.fc_ps = config['fc_ps']\n",
    "        self.out_sz = config['out_sz']\n",
    "        \n",
    "        #embedding layers\n",
    "        self.emb_drop = nn.Dropout(self.emb_p)\n",
    "        self.sta_layers = nn.ModuleList([nn.Embedding(sta_dict[i], emb_sz_rule(sta_dict[i])) for i in sta_dict])\n",
    "        self.seq_layer = nn.Embedding(seq_dim, emb_sz_rule(seq_dim))\n",
    "        self.lin_in = sum([emb_sz_rule(sta_dict[i]) for i in sta_dict]) + self.rnn_h * self.seq_len\n",
    "        self.fc_szs = [self.lin_in] + self.fc_szs\n",
    "        \n",
    "        #recurrent layers\n",
    "        self.rnn_layers = nn.LSTM(emb_sz_rule(seq_dim), self.rnn_h,\n",
    "                                   num_layers = self.rnn_l, bias=True,\n",
    "                                   dropout=self.rnn_p)\n",
    "        \n",
    "        #fully connected layers\n",
    "        fc_layers_list = []\n",
    "        for ni,nf,p in zip(self.fc_szs[:-1], self.fc_szs[1:], self.fc_ps):\n",
    "            fc_layers_list.append(nn.Linear(ni, nf))\n",
    "            fc_layers_list.append(nn.ReLU(inplace=True))\n",
    "            fc_layers_list.append(nn.BatchNorm1d(nf))\n",
    "            fc_layers_list.append(nn.Dropout(p=p))\n",
    "        self.fc_layers = nn.Sequential(*fc_layers_list)\n",
    "\n",
    "        #output head\n",
    "        self.head = torch.nn.Linear(in_features=self.fc_szs[-1], out_features=self.out_sz)\n",
    "\n",
    "    def forward(self, seq_input, sta_input):\n",
    "        #sta\n",
    "        sta_list = [e(sta_input[:,i]) for i,e in enumerate(self.sta_layers)]\n",
    "        sta_out = torch.cat(sta_list,1)\n",
    "        sta_out = self.emb_drop(sta_out)\n",
    "        \n",
    "        #seq\n",
    "        bs = seq_input.shape[0]\n",
    "        seq_out = self.seq_layer(seq_input)\n",
    "        seq_out = self.emb_drop(seq_out).permute(1,0,2)\n",
    "        seq_out, seq_h = self.rnn_layers(seq_out)\n",
    "        seq_out = seq_out.reshape(bs,-1)\n",
    "        \n",
    "        #linear\n",
    "        lin_in = torch.cat([sta_out,seq_out],1)\n",
    "        res = self.fc_layers(lin_in)\n",
    "        res = self.head(res)\n",
    "        \n",
    "        return(res)"
   ]
  },
  {
   "cell_type": "code",
   "execution_count": 99,
   "metadata": {},
   "outputs": [
    {
     "data": {
      "text/plain": [
       "torch.Size([14731, 486])"
      ]
     },
     "execution_count": 99,
     "metadata": {},
     "output_type": "execute_result"
    }
   ],
   "source": [
    "model = RecommendSeq(config, sta_dict, seq_dim)\n",
    "x = next(iter(valid_dl))\n",
    "seq_input = x[0]\n",
    "sta_input = x[1]\n",
    "target = x[2]\n",
    "model(seq_input,sta_input).shape"
   ]
  },
  {
   "cell_type": "code",
   "execution_count": 100,
   "metadata": {},
   "outputs": [
    {
     "data": {
      "text/plain": [
       "RecommendSeq(\n",
       "  (emb_drop): Dropout(p=0.05)\n",
       "  (sta_layers): ModuleList(\n",
       "    (0): Embedding(5, 4)\n",
       "    (1): Embedding(507, 52)\n",
       "    (2): Embedding(218, 33)\n",
       "  )\n",
       "  (seq_layer): Embedding(486, 51)\n",
       "  (rnn_layers): LSTM(51, 1000)\n",
       "  (fc_layers): Sequential(\n",
       "    (0): Linear(in_features=4089, out_features=1000, bias=True)\n",
       "    (1): ReLU(inplace)\n",
       "    (2): BatchNorm1d(1000, eps=1e-05, momentum=0.1, affine=True, track_running_stats=True)\n",
       "    (3): Dropout(p=0.5)\n",
       "    (4): Linear(in_features=1000, out_features=500, bias=True)\n",
       "    (5): ReLU(inplace)\n",
       "    (6): BatchNorm1d(500, eps=1e-05, momentum=0.1, affine=True, track_running_stats=True)\n",
       "    (7): Dropout(p=0.25)\n",
       "  )\n",
       "  (head): Linear(in_features=500, out_features=486, bias=True)\n",
       ")"
      ]
     },
     "execution_count": 100,
     "metadata": {},
     "output_type": "execute_result"
    }
   ],
   "source": [
    "model"
   ]
  },
  {
   "cell_type": "markdown",
   "metadata": {},
   "source": [
    "### Training"
   ]
  },
  {
   "cell_type": "code",
   "execution_count": 101,
   "metadata": {},
   "outputs": [],
   "source": [
    "seq_cols = ['prev_snap_4', 'prev_snap_3', 'prev_snap_2', 'prev_snap_1',]\n",
    "sta_cols = ['org','project','user']\n",
    "target_col = 'target_snap'\n",
    "\n",
    "bs = 1024\n",
    "train_ds = SnapSeqDataset(train_df, seq_cols, sta_cols, target_col)\n",
    "train_dl = DataLoader(train_ds, batch_size=bs, shuffle=True, num_workers=4)\n",
    "valid_ds = SnapSeqDataset(valid_df, seq_cols, sta_cols, target_col)\n",
    "valid_dl = DataLoader(valid_ds, batch_size=len(valid_ds), shuffle=False, num_workers=4)"
   ]
  },
  {
   "cell_type": "code",
   "execution_count": 103,
   "metadata": {},
   "outputs": [],
   "source": [
    "sta_dict = {'org':5, 'project':507, 'user':218}\n",
    "seq_dim = 486\n",
    "config = {'emb_p': 0.05, \n",
    "          'rnn_p':0., 'rnn_l':1, 'rnn_h':1000, 'seq_len': 4,\n",
    "          'fc_ps': [0.5, 0.25],'fc_szs': [1000, 500], \n",
    "          'out_sz': 486}\n",
    "\n",
    "model = RecommendSeq(config, sta_dict, seq_dim).to(device)\n",
    "loss_function = nn.CrossEntropyLoss()\n",
    "optimizer = optim.Adam(model.parameters(), lr=1e-2)\n",
    "scheduler = torch.optim.lr_scheduler.ReduceLROnPlateau(optimizer, mode='min', factor=0.1, patience=1)"
   ]
  },
  {
   "cell_type": "code",
   "execution_count": null,
   "metadata": {},
   "outputs": [
    {
     "data": {
      "application/vnd.jupyter.widget-view+json": {
       "model_id": "0073f08089674d0f81d1d19a5e812968",
       "version_major": 2,
       "version_minor": 0
      },
      "text/plain": [
       "HBox(children=(IntProgress(value=0, max=20), HTML(value='')))"
      ]
     },
     "metadata": {},
     "output_type": "display_data"
    }
   ],
   "source": [
    "train_losses = []\n",
    "valid_losses = []\n",
    "lrs = []\n",
    "accs = []\n",
    "acc_ks = []\n",
    "best_loss = np.inf\n",
    "best_weights = None\n",
    "no_improvements = 0\n",
    "\n",
    "for epoch in tqdm_notebook(range(20)):\n",
    "    #current lr\n",
    "    lr = scheduler.optimizer.param_groups[0]['lr']\n",
    "    lrs.append(lr)\n",
    "    #train\n",
    "    train_loss = []\n",
    "    model.train()\n",
    "    for x in train_dl:\n",
    "        seq_input = x[0]\n",
    "        sta_input = x[1]\n",
    "        target = x[2]\n",
    "        \n",
    "        #forward\n",
    "        score = model(seq_input,sta_input)\n",
    "        \n",
    "        #loss\n",
    "        loss = loss_function(score,target)\n",
    "        train_loss.append(loss.item())\n",
    "        \n",
    "        #step\n",
    "        optimizer.zero_grad()\n",
    "        loss.backward()\n",
    "        optimizer.step()\n",
    "\n",
    "    train_losses.append(np.mean(train_loss))\n",
    "    \n",
    "    #validate\n",
    "    model.eval()\n",
    "    for x in valid_dl:\n",
    "        seq_input = x[0]\n",
    "        sta_input = x[1]\n",
    "        target = x[2]\n",
    "        \n",
    "        #forward\n",
    "        score = model(seq_input,sta_input)\n",
    "        \n",
    "        #loss\n",
    "        valid_loss = loss_function(score,target)\n",
    "        valid_losses.append(valid_loss.item())\n",
    "        \n",
    "        #accuracy\n",
    "        y = target.detach().numpy()\n",
    "        probs = F.softmax(score,1).detach().numpy()\n",
    "        \n",
    "        #top 1 accuracy\n",
    "        preds = probs.argmax(1)\n",
    "        acc = (preds==y).mean()\n",
    "        accs.append(acc)\n",
    "        \n",
    "        #top k accuracy\n",
    "        acc_k = score_topk_probs(probs,y,k=5)\n",
    "        acc_ks.append(acc_k)\n",
    "        \n",
    "    #choose best model\n",
    "    if valid_loss < best_loss:\n",
    "        best_loss = valid_loss\n",
    "        best_weights = deepcopy(model.state_dict())\n",
    "        no_improvements = 0\n",
    "    else:\n",
    "        no_improvements += 1\n",
    "\n",
    "    #early stopping\n",
    "    if no_improvements > 2:\n",
    "        print(f'early stopping after epoch {epoch}')\n",
    "        break\n",
    "        \n",
    "    #end of epoch\n",
    "    scheduler.step(valid_loss)\n",
    "    print(f'{epoch} train loss: {round(np.mean(train_loss),3)} valid loss: {round(valid_loss.item(),3)}\\\n",
    "            accuracy: {round(acc,3)}  top-5 accuracy: {round(acc_k,3)}')"
   ]
  },
  {
   "cell_type": "code",
   "execution_count": null,
   "metadata": {},
   "outputs": [],
   "source": []
  }
 ],
 "metadata": {
  "kernelspec": {
   "display_name": "Python 3",
   "language": "python",
   "name": "python3"
  },
  "language_info": {
   "codemirror_mode": {
    "name": "ipython",
    "version": 3
   },
   "file_extension": ".py",
   "mimetype": "text/x-python",
   "name": "python",
   "nbconvert_exporter": "python",
   "pygments_lexer": "ipython3",
   "version": "3.6.8"
  }
 },
 "nbformat": 4,
 "nbformat_minor": 2
}
